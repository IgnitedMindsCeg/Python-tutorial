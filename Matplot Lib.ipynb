{
 "cells": [
  {
   "cell_type": "markdown",
   "metadata": {},
   "source": [
    "# matplotlib "
   ]
  },
  {
   "cell_type": "markdown",
   "metadata": {},
   "source": [
    "The matplotlib code is conceptually divided into three parts: \n",
    "\n",
    "1)**The pylab** interface is the set of functions provided by matplotlib.pylab which allow the user to create plots with code quite similar to MATLAB figure generating code. \n",
    "\n",
    "2)**The matplotlib** frontend or matplotlib API is the set of classes that do the heavy lifting, creating and managing figures, text, lines, plots and so on. This is an abstract interface that knows nothing about output. \n",
    "\n",
    "3)**The backends** are device-dependent drawing devices, aka renderers, that transform the frontend representation to hardcopy or a display device. Example backends: PS creates PostScript® hardcopy, SVG creates Scalable Vector Graphics hardcopy, Agg creates PNG output using the high quality Anti-Grain Geometry library that ships with matplotlib, GTK embeds matplotlib in a Gtk+ application, GTKAgg uses the Anti-Grain renderer to create a figure and embed it in a Gtk+ application, and so on for PDF, WxWidgets, Tkinter, etc."
   ]
  },
  {
   "cell_type": "markdown",
   "metadata": {},
   "source": [
    "## ***pylab tutorial***"
   ]
  },
  {
   "cell_type": "markdown",
   "metadata": {},
   "source": [
    "To import pylab in notebook ===> **(%pylab)**\n",
    "\n",
    "But in ipython console ====> **ipython -pylab**\n",
    "\n",
    "or we can use usual import like ==> **from matplotlib.pylab import ***"
   ]
  },
  {
   "cell_type": "code",
   "execution_count": 25,
   "metadata": {
    "collapsed": false
   },
   "outputs": [
    {
     "name": "stdout",
     "output_type": "stream",
     "text": [
      "Using matplotlib backend: Qt4Agg\n",
      "Populating the interactive namespace from numpy and matplotlib\n"
     ]
    }
   ],
   "source": [
    "%pylab"
   ]
  },
  {
   "cell_type": "code",
   "execution_count": 8,
   "metadata": {
    "collapsed": false
   },
   "outputs": [
    {
     "data": {
      "text/plain": [
       "[<matplotlib.lines.Line2D at 0x6172570>]"
      ]
     },
     "execution_count": 8,
     "metadata": {},
     "output_type": "execute_result"
    }
   ],
   "source": [
    "plot(arange(0,10))"
   ]
  },
  {
   "cell_type": "code",
   "execution_count": 9,
   "metadata": {
    "collapsed": false
   },
   "outputs": [
    {
     "data": {
      "text/plain": [
       "<matplotlib.text.Text at 0x614cf10>"
      ]
     },
     "execution_count": 9,
     "metadata": {},
     "output_type": "execute_result"
    }
   ],
   "source": [
    "xlabel('Measured')\n",
    "ylabel('Calculated')"
   ]
  },
  {
   "cell_type": "code",
   "execution_count": 2,
   "metadata": {
    "collapsed": false
   },
   "outputs": [
    {
     "data": {
      "text/plain": [
       "[<matplotlib.lines.Line2D at 0x5eabb70>]"
      ]
     },
     "execution_count": 2,
     "metadata": {},
     "output_type": "execute_result"
    }
   ],
   "source": [
    "t=arange(-4,4,0.01)\n",
    "y=(cos(2*pi*3*t)**2)\n",
    "plot(t,y)"
   ]
  },
  {
   "cell_type": "code",
   "execution_count": 12,
   "metadata": {
    "collapsed": true
   },
   "outputs": [],
   "source": [
    "grid()\n"
   ]
  },
  {
   "cell_type": "code",
   "execution_count": 3,
   "metadata": {
    "collapsed": false
   },
   "outputs": [
    {
     "data": {
      "text/plain": [
       "<matplotlib.text.Text at 0x5e87950>"
      ]
     },
     "execution_count": 3,
     "metadata": {},
     "output_type": "execute_result"
    }
   ],
   "source": [
    "xlabel('Time (s)');ylabel('Amplitude of $cos^2(2\\pi f_ct)$')"
   ]
  },
  {
   "cell_type": "code",
   "execution_count": 14,
   "metadata": {
    "collapsed": true
   },
   "outputs": [],
   "source": [
    "savefig('new.pdf')"
   ]
  },
  {
   "cell_type": "code",
   "execution_count": 4,
   "metadata": {
    "collapsed": false
   },
   "outputs": [
    {
     "name": "stdout",
     "output_type": "stream",
     "text": [
      "Name            Shape            Bytes            Type\n",
      "===========================================================\n",
      "\n",
      "y               800              6400             float64\n",
      "t               800              6400             float64\n",
      "\n",
      "Upper bound on total bytes  =       12800\n"
     ]
    }
   ],
   "source": [
    "who()"
   ]
  },
  {
   "cell_type": "code",
   "execution_count": 5,
   "metadata": {
    "collapsed": false
   },
   "outputs": [],
   "source": [
    "import numpy as np\n",
    "import matplotlib.pyplot as plt\n",
    "\n",
    "# evenly sampled time at 200ms intervals\n",
    "t = np.arange(0., 5., 0.2)\n",
    "\n",
    "# red dashes, blue squares and green triangles\n",
    "plt.plot(t, t, 'r--', t, t**2, 'bs', t, t**3, 'g^')\n",
    "plt.show()\n"
   ]
  },
  {
   "cell_type": "markdown",
   "metadata": {},
   "source": [
    "**Controlling line properties**\n",
    "\n",
    "Lines have many attributes that you can set: linewidth, dash style, antialiased, etc; see matplotlib.lines.Line2D. There are several ways to set line properties"
   ]
  },
  {
   "cell_type": "code",
   "execution_count": 97,
   "metadata": {
    "collapsed": false
   },
   "outputs": [],
   "source": [
    "x=np.arange(0., 5., 0.2)\n",
    "y1=x**2\n",
    "line, = plt.plot(x, y1, '-',label='$x^2$')\n",
    "plt.setp(line, color='g', linewidth=4.0)\n",
    "plt.legend(handles=[line,])\n",
    "\n",
    "plt.show()\n"
   ]
  },
  {
   "cell_type": "code",
   "execution_count": 124,
   "metadata": {
    "collapsed": false
   },
   "outputs": [
    {
     "data": {
      "text/plain": [
       "<matplotlib.legend.Legend at 0x98a9e70>"
      ]
     },
     "execution_count": 124,
     "metadata": {},
     "output_type": "execute_result"
    }
   ],
   "source": [
    "y2=x**3\n",
    "\n",
    "lines = plt.plot(x, y1, x, y2)\n",
    "\n",
    "# use keyword args\n",
    "plt.setp(lines[0], color='r', linewidth=2)\n",
    "plt.setp(lines[1], color='g', linewidth=2)\n",
    "plt.legend([lines[0], lines[1]], ['$x^2$', '$x^3$'],loc=2)\n",
    "# or MATLAB style string value pairs\n",
    "#plt.setp(lines, 'color', 'r', 'linewidth', 2.0)"
   ]
  },
  {
   "cell_type": "markdown",
   "metadata": {
    "collapsed": false
   },
   "source": [
    "**Working with multiple figures and axes**\n",
    "\n",
    "MATLAB, and pyplot, have the concept of the current figure and the current axes. All plotting commands apply to the current axes. The function **gca()** returns the current axes (a matplotlib.axes.Axes instance), and **gcf()** returns the current figure (matplotlib.figure.Figure instance). Normally, you don’t have to worry about this, because it is all taken care of behind the scenes. Below is a script to create two subplots."
   ]
  },
  {
   "cell_type": "code",
   "execution_count": 1,
   "metadata": {
    "collapsed": false
   },
   "outputs": [],
   "source": [
    "import numpy as np\n",
    "import matplotlib.pyplot as plt\n",
    "\n",
    "def f(t):\n",
    "    return np.exp(-t) * np.cos(2*np.pi*t)\n",
    "\n",
    "t1 = np.arange(0.0, 5.0, 0.1)\n",
    "t2 = np.arange(0.0, 5.0, 0.02)\n",
    "\n",
    "plt.figure(1)\n",
    "ax1=plt.subplot(211)\n",
    "\n",
    "plt.plot(t1, f(t1), 'bo', t2, f(t2), 'k')\n",
    "ax1.set_ylabel('$e^{-t}cos(2\\pi t)$')\n",
    "ax1.set_xlabel('$t$')\n",
    "\n",
    "ax2=plt.subplot(212)\n",
    "plt.plot(t2, np.cos(2*np.pi*t2), 'r--')\n",
    "ax2.set_ylabel('$cos(2\\pi t)$')\n",
    "ax2.set_xlabel('$t$')\n",
    "plt.show()"
   ]
  },
  {
   "cell_type": "markdown",
   "metadata": {
    "collapsed": true
   },
   "source": [
    "The **figure()** command here is optional because **figure(1)** will be created by default, just as a **subplot(111)** will be created by default if you don’t manually specify any axes. The **subplot()** command specifies numrows, numcols, fignum where fignum ranges from 1 to numrows*numcols. The commas in the subplot command are optional if $numrows*numcols<10$. So **subplot(211)** is identical to **subplot(2, 1, 1)**. You can create an arbitrary number of subplots and axes. If you want to place an axes manually, i.e., not on a rectangular grid, use the **axes()** command, which allows you to specify the location as axes([left, bottom, width, height]) where all values are in fractional (0 to 1) coordinates. \n",
    "\n",
    "You can create multiple figures by using multiple **figure()** calls with an increasing figure number. Of course, each figure can contain as many axes and subplots as your heart desires:"
   ]
  },
  {
   "cell_type": "code",
   "execution_count": 30,
   "metadata": {
    "collapsed": false
   },
   "outputs": [
    {
     "data": {
      "text/plain": [
       "<matplotlib.text.Text at 0x88b7a30>"
      ]
     },
     "execution_count": 30,
     "metadata": {},
     "output_type": "execute_result"
    }
   ],
   "source": [
    "import matplotlib.pyplot as plt\n",
    "f1=plt.figure(1)                # the first figure\n",
    "plt.subplot(211)             # the first subplot in the first figure\n",
    "plt.plot([1, 2, 3])\n",
    "plt.subplot(212)             # the second subplot in the first figure\n",
    "plt.plot([4, 5, 6])\n",
    "\n",
    "\n",
    "f2=plt.figure(2)                # a second figure\n",
    "plt.plot([4, 5, 6])          # creates a subplot(111) by default\n",
    "\n",
    "plt.figure(1)                # figure 1 current; subplot(212) still current\n",
    "plt.subplot(211)             # make subplot(211) in figure1 current\n",
    "plt.title('Easy as 1, 2, 3') # subplot 211 title"
   ]
  },
  {
   "cell_type": "markdown",
   "metadata": {},
   "source": [
    "You can clear the current figure with **clf()** and the current axes with **cla()**. If you find it annoying that states (specifically the current image, figure and axes) are being maintained for you behind the scenes, don’t despair: this is just a thin stateful wrapper around an object oriented API, which you can use instead.\n",
    "\n",
    "If you are making lots of figures, you need to be aware of one more thing: the memory required for a figure is not completely released until the figure is explicitly closed with **close()**. Deleting all references to the figure, and/or using the window manager to kill the window in which the figure appears on the screen, is not enough, because pyplot maintains internal references until **close()** is called."
   ]
  },
  {
   "cell_type": "code",
   "execution_count": 32,
   "metadata": {
    "collapsed": false
   },
   "outputs": [],
   "source": [
    "#plt.close(\"all\")\n",
    "plt.close(f1)"
   ]
  },
  {
   "cell_type": "markdown",
   "metadata": {},
   "source": [
    "***Working with text***\n",
    "\n",
    "The **text()** command can be used to add text in an arbitrary location, and the **xlabel()**, **ylabel()** and **title()** are used to add text in the indicated locations."
   ]
  },
  {
   "cell_type": "code",
   "execution_count": 135,
   "metadata": {
    "collapsed": false
   },
   "outputs": [],
   "source": [
    "import numpy as np\n",
    "import matplotlib.pyplot as plt\n",
    "plt.close('all')\n",
    "mu, sigma = 100, 15\n",
    "x = mu + sigma * np.random.randn(10000)\n",
    "\n",
    "# the histogram of the data\n",
    "n, bins, patches = plt.hist(x, 50, normed=1, facecolor='g', alpha=0.75)\n",
    "\n",
    "\n",
    "\n",
    "plt.xlabel('Smarts')\n",
    "plt.ylabel('Probability')\n",
    "plt.title('Histogram of IQ')\n",
    "plt.text(60, .025, r'$\\mu=100,\\ \\sigma=15$')\n",
    "plt.axis([40, 160, 0, 0.03])\n",
    "plt.grid(True)\n",
    "plt.show()"
   ]
  },
  {
   "cell_type": "markdown",
   "metadata": {},
   "source": [
    "**Annotating text**\n",
    "\n",
    "The uses of the basic **text()** command above place text at an arbitrary position on the Axes. A common use for text is to annotate some feature of the plot, and the **annotate()** method provides helper functionality to make annotations easy. In an annotation, there are two points to consider: the location being annotated represented by the argument xy and the location of the text xytext. Both of these arguments are (x,y) tuples."
   ]
  },
  {
   "cell_type": "code",
   "execution_count": 34,
   "metadata": {
    "collapsed": true
   },
   "outputs": [],
   "source": [
    "import numpy as np\n",
    "import matplotlib.pyplot as plt\n",
    "\n",
    "ax = plt.subplot(111)\n",
    "\n",
    "t = np.arange(0.0, 5.0, 0.01)\n",
    "s = np.cos(2*np.pi*t)\n",
    "line, = plt.plot(t, s, lw=2)\n",
    "\n",
    "plt.annotate('local max', xy=(2, 1), xytext=(3, 1.5),\n",
    "            arrowprops=dict(facecolor='black', shrink=0.05),\n",
    "            )\n",
    "\n",
    "plt.ylim(-2,2)\n",
    "plt.show()"
   ]
  },
  {
   "cell_type": "markdown",
   "metadata": {},
   "source": [
    "**log plots**"
   ]
  },
  {
   "cell_type": "code",
   "execution_count": null,
   "metadata": {
    "collapsed": true
   },
   "outputs": [],
   "source": [
    "import numpy as np\n",
    "import matplotlib.pyplot as plt\n",
    "\n",
    "plt.subplots_adjust(hspace=0.6)\n",
    "t = np.arange(0.01, 20.0, 0.01)\n",
    "\n",
    "# log y axis\n",
    "ax1=plt.subplot(221)\n",
    "plt.semilogy(t, np.exp(-t/5.0))\n",
    "\n",
    "plt.title('semilogy')\n",
    "plt.grid(True)\n",
    "\n",
    "# log x axis\n",
    "plt.subplot(222)\n",
    "plt.semilogx(t, np.sin(2*np.pi*t))\n",
    "plt.title('semilogx')\n",
    "plt.grid(True)\n",
    "\n",
    "# log x and y axis\n",
    "plt.subplot(223)\n",
    "plt.loglog(t, 20*np.exp(-t/10.0), basex=2)\n",
    "plt.grid(True)\n",
    "plt.title('loglog base 4 on x')\n",
    "\n",
    "# with errorbars: clip non-positive values\n",
    "ax = plt.subplot(224)\n",
    "ax.set_xscale(\"log\", nonposx='clip')\n",
    "ax.set_yscale(\"log\", nonposy='clip')\n",
    "\n",
    "x = 10.0**np.linspace(0.0, 2.0, 20)\n",
    "y = x**2.0\n",
    "plt.errorbar(x, y, xerr=0.1*x, yerr=5.0 + 0.75*y)\n",
    "ax.set_ylim(ymin=0.1)\n",
    "ax.set_title('Errorbars go negative')\n",
    "\n",
    "\n",
    "plt.show()\n",
    "\n"
   ]
  },
  {
   "cell_type": "code",
   "execution_count": 45,
   "metadata": {
    "collapsed": true
   },
   "outputs": [],
   "source": [
    "plt.errorbar?"
   ]
  },
  {
   "cell_type": "markdown",
   "metadata": {},
   "source": [
    "**Shared axis**\n",
    "\n",
    "You can share the x or y axis limits for one axis with another by\n",
    "passing an axes instance as a sharex or sharey kwarg.\n",
    "\n",
    "Changing the axis limits on one axes will be reflected automatically\n",
    "in the other, and vice-versa, so when you navigate with the toolbar\n",
    "the axes will follow each other on their shared axes.  Ditto for\n",
    "changes in the axis scaling (e.g., log vs linear).  However, it is\n",
    "possible to have differences in tick labeling, e.g., you can selectively\n",
    "turn off the tick labels on one axes."
   ]
  },
  {
   "cell_type": "code",
   "execution_count": 51,
   "metadata": {
    "collapsed": true
   },
   "outputs": [],
   "source": [
    "import matplotlib.pyplot as plt\n",
    "import numpy as np\n",
    "\n",
    "t = np.arange(0.01, 5.0, 0.01)\n",
    "s1 = np.sin(2*np.pi*t)\n",
    "s2 = np.exp(-t)\n",
    "s3 = np.sin(4*np.pi*t)\n",
    "\n",
    "ax1 = plt.subplot(311)\n",
    "plt.plot(t, s1)\n",
    "plt.setp(ax1.get_xticklabels(), fontsize=6)\n",
    "\n",
    "# share x only\n",
    "ax2 = plt.subplot(312, sharex=ax1)\n",
    "plt.plot(t, s2)\n",
    "# make these tick labels invisible\n",
    "plt.setp(ax2.get_xticklabels(), visible=False)\n",
    "\n",
    "# share x and y\n",
    "ax3 = plt.subplot(313, sharex=ax1, sharey=ax1)\n",
    "plt.plot(t, s3)\n",
    "plt.xlim(0.01, 5.0)\n",
    "plt.show()"
   ]
  },
  {
   "cell_type": "code",
   "execution_count": 56,
   "metadata": {
    "collapsed": false
   },
   "outputs": [
    {
     "data": {
      "text/plain": [
       "10000"
      ]
     },
     "execution_count": 56,
     "metadata": {},
     "output_type": "execute_result"
    }
   ],
   "source": [
    "dt = 0.001\n",
    "t = np.arange(0.0, 10.0, dt)\n",
    "len(t)"
   ]
  },
  {
   "cell_type": "code",
   "execution_count": 58,
   "metadata": {
    "collapsed": false
   },
   "outputs": [],
   "source": [
    "import matplotlib.pyplot as plt\n",
    "import numpy as np\n",
    "\n",
    "x, y = np.random.randn(2, 100)\n",
    "fig = plt.figure()\n",
    "ax1 = fig.add_subplot(211)\n",
    "ax1.xcorr(x, y, usevlines=True, maxlags=50, normed=True, lw=2)\n",
    "ax1.grid(True)\n",
    "ax1.axhline(0, color='black', lw=2)\n",
    "\n",
    "ax2 = fig.add_subplot(212, sharex=ax1)\n",
    "ax2.acorr(x, usevlines=True, normed=True, maxlags=50, lw=2)\n",
    "ax2.grid(True)\n",
    "ax2.axhline(0, color='black', lw=2)\n",
    "\n",
    "plt.show()\n"
   ]
  },
  {
   "cell_type": "code",
   "execution_count": 3,
   "metadata": {
    "collapsed": true
   },
   "outputs": [],
   "source": [
    "import matplotlib.pyplot as plt\n",
    "import numpy as np\n",
    "\n",
    "dt = 0.01\n",
    "Fs = 1/dt\n",
    "t = np.arange(0, 10, dt)\n",
    "nse = np.random.randn(len(t))\n",
    "r = np.exp(-t/0.05)\n",
    "\n",
    "cnse = np.convolve(nse, r)*dt\n",
    "cnse = cnse[:len(t)]\n",
    "s = 0.1*np.sin(2*np.pi*t) + cnse\n",
    "\n",
    "plt.subplot(3, 2, 1)\n",
    "plt.plot(t, s)\n",
    "\n",
    "plt.subplot(3, 2, 3)\n",
    "plt.magnitude_spectrum(s, Fs=Fs)\n",
    "\n",
    "plt.subplot(3, 2, 4)\n",
    "plt.magnitude_spectrum(s, Fs=Fs, scale='dB')\n",
    "\n",
    "plt.subplot(3, 2, 5)\n",
    "plt.angle_spectrum(s, Fs=Fs)\n",
    "\n",
    "plt.subplot(3, 2, 6)\n",
    "plt.phase_spectrum(s, Fs=Fs)\n",
    "\n",
    "plt.show()\n"
   ]
  },
  {
   "cell_type": "markdown",
   "metadata": {},
   "source": [
    "## ***Artist tutorial***"
   ]
  },
  {
   "cell_type": "markdown",
   "metadata": {},
   "source": [
    "There are three layers to the matplotlib API. The **matplotlib.backend_bases**.FigureCanvas is the area onto which the figure is drawn, the matplotlib.backend_bases. Renderer is the object which knows how to draw on the **FigureCanvas**, and the **matplotlib.artist.Artist** is the object that knows how to use a renderer to paint onto the canvas. The FigureCanvas and Renderer handle all the details of talking to user interface toolkits like wxPython or drawing languages like PostScript®, and the Artist handles all the high level constructs like representing and laying out the figure, text, and lines. "
   ]
  },
  {
   "cell_type": "markdown",
   "metadata": {},
   "source": [
    "There are two types of Artists: **primitives** and **containers**. \n",
    "\n",
    "The **primitives** represent the standard graphical objects we want to paint onto our canvas: Line2D, Rectangle, Text, AxesImage, etc., and the **containers** are places to put them (Axis, Axes and Figure). The standard use is to create a Figure instance, use the Figure to create one or more Axes or Subplot instances, and use the Axes instance helper methods to create the primitives. In the example below, we create a Figure instance using **matplotlib.pyplot.figure()**, which is a convenience method for instantiating Figure instances and connecting them with your user interface or drawing toolkit FigureCanvas. "
   ]
  },
  {
   "cell_type": "code",
   "execution_count": 2,
   "metadata": {
    "collapsed": true
   },
   "outputs": [],
   "source": [
    "import matplotlib.pyplot as plt\n",
    "fig = plt.figure()\n",
    "ax = fig.add_subplot(2,1,1) # two rows, one column, first plot"
   ]
  },
  {
   "cell_type": "markdown",
   "metadata": {},
   "source": [
    "The **Axes** is probably the most important class in the matplotlib API, and the one you will be working with most of the time. This is because the Axes is the plotting area into which most of the objects go, and the Axes has many special helper methods (**plot(), text(), hist(), imshow()**) to create the most common graphics primitives (Line2D, Text, Rectangle, Image, respectively). These helper methods will take your data (e.g., numpy arrays and strings) and create primitive Artist instances as needed (e.g., Line2D), add them to the relevant containers, and draw them when requested. Most of you are probably familiar with the Subplot, which is just a special case of an Axes that lives on a regular rows by columns grid of Subplot instances. If you want to create an Axes at an arbitrary location, simply use the **add_axes()** method which takes a list of [left, bottom, width, height] values in 0-1 relative figure coordinates:"
   ]
  },
  {
   "cell_type": "code",
   "execution_count": 114,
   "metadata": {
    "collapsed": true
   },
   "outputs": [],
   "source": [
    "fig2 = plt.figure()\n",
    "ax2 = fig2.add_axes([0.15, 0.1, 0.7, 0.3])"
   ]
  },
  {
   "cell_type": "code",
   "execution_count": 115,
   "metadata": {
    "collapsed": true
   },
   "outputs": [],
   "source": [
    "import numpy as np\n",
    "t = np.arange(0.0, 1.0, 0.01)\n",
    "s = np.sin(2*np.pi*t)\n",
    "line, = ax.plot(t, s, color='blue', lw=2)"
   ]
  },
  {
   "cell_type": "code",
   "execution_count": 16,
   "metadata": {
    "collapsed": false
   },
   "outputs": [
    {
     "data": {
      "text/plain": [
       "<matplotlib.text.Text at 0x8429190>"
      ]
     },
     "execution_count": 16,
     "metadata": {},
     "output_type": "execute_result"
    }
   ],
   "source": [
    "plt.close('all')\n",
    "\n",
    "fig = plt.figure()\n",
    "fig.subplots_adjust(top=0.9)\n",
    "ax1 = fig.add_subplot(211)\n",
    "ax1.set_ylabel('volts')\n",
    "ax1.set_title('a sine wave')\n",
    "\n",
    "t = np.arange(0.0, 1.0, 0.01)\n",
    "s = np.sin(2*np.pi*t)\n",
    "line, = ax1.plot(t, s, color='blue', lw=2, alpha=0.7)\n",
    "\n",
    "\n",
    "\n",
    "ax2 = fig.add_axes([0.15, 0.1, 0.7, 0.3])\n",
    "n, bins, patches = ax2.hist(np.random.randn(1000), 50,\n",
    "    facecolor='blue', edgecolor='yellow')\n",
    "ax2.set_xlabel('time (s)')\n",
    "plt.show()"
   ]
  },
  {
   "cell_type": "markdown",
   "metadata": {
    "collapsed": true
   },
   "source": [
    "**Customizing your objects**\n",
    "\n",
    "Every element in the figure is represented by a matplotlib Artist, and each has an extensive list of properties to configure its appearance. The figure itself contains a Rectangle exactly the size of the figure, which you can use to set the background color and transparency of the figures. Likewise, each Axes bounding box (the standard white box with black edges in the typical matplotlib plot, has a Rectangle instance that determines the color, transparency, and other properties of the Axes. These instances are stored as member variables Figure.patch and Axes.patch (“Patch” is a name inherited from MATLAB, and is a 2D “patch” of color on the figure, e.g., rectangles, circles and polygons). Each of the properties is accessed with an old-fashioned setter or getter (yes we know this irritates Pythonistas and we plan to support direct access via properties or traits but it hasn’t been done yet). "
   ]
  },
  {
   "cell_type": "code",
   "execution_count": 12,
   "metadata": {
    "collapsed": false
   },
   "outputs": [
    {
     "name": "stdout",
     "output_type": "stream",
     "text": [
      "0.7\n"
     ]
    }
   ],
   "source": [
    "plt.close('all')\n",
    "\n",
    "fig = plt.figure()\n",
    "fig.subplots_adjust(top=0.9)\n",
    "ax1 = fig.add_subplot(211)\n",
    "ax1.set_ylabel('volts')\n",
    "ax1.set_title('a sine wave')\n",
    "\n",
    "rect = ax1.patch  # a Rectangle instance\n",
    "rect.set_facecolor('green')\n",
    "\n",
    "t = np.arange(0.0, 1.0, 0.01)\n",
    "s = np.sin(2*np.pi*t)\n",
    "line, = ax1.plot(t, s, color='blue', lw=2, alpha=0.7)\n",
    "\n",
    "a=line.get_alpha()\n",
    "print(a)\n",
    "\n",
    "ax2 = fig.add_axes([0.15, 0.1, 0.7, 0.3])\n",
    "n, bins, patches = ax2.hist(np.random.randn(1000), 50,\n",
    "    facecolor='blue', edgecolor='yellow')\n",
    "ax2.set_xlabel('time (s)')\n",
    "plt.show()\n",
    "\n"
   ]
  },
  {
   "cell_type": "code",
   "execution_count": 8,
   "metadata": {
    "collapsed": false
   },
   "outputs": [
    {
     "name": "stdout",
     "output_type": "stream",
     "text": [
      "    aa = False\n",
      "    agg_filter = None\n",
      "    alpha = None\n",
      "    animated = False\n",
      "    antialiased or aa = False\n",
      "    axes = None\n",
      "    bbox = Bbox(x0=0.0, y0=0.0, x1=1.0, y1=1.0)\n",
      "    capstyle = butt\n",
      "    children = []\n",
      "    clip_box = None\n",
      "    clip_on = True\n",
      "    clip_path = None\n",
      "    contains = None\n",
      "    data_transform = BboxTransformTo(TransformedBbox(Bbox([[0.0, 0.0], ...\n",
      "    ec = (1.0, 1.0, 1.0, 1.0)\n",
      "    edgecolor or ec = (1.0, 1.0, 1.0, 1.0)\n",
      "    extents = Bbox(x0=0.0, y0=0.0, x1=640.0, y1=478.0)\n",
      "    facecolor or fc = (0.75, 0.75, 0.75, 1.0)\n",
      "    fc = (0.75, 0.75, 0.75, 1.0)\n",
      "    figure = Figure(640x478)\n",
      "    fill = True\n",
      "    gid = None\n",
      "    hatch = None\n",
      "    height = 1.0\n",
      "    joinstyle = miter\n",
      "    label = \n",
      "    linestyle or ls = solid\n",
      "    linewidth or lw = 0.0\n",
      "    ls = solid\n",
      "    lw = 0.0\n",
      "    patch_transform = CompositeGenericTransform(BboxTransformTo(Bbox([[0...\n",
      "    path = Path(array([[ 0.,  0.],        [ 1.,  0.],        ...\n",
      "    path_effects = []\n",
      "    picker = None\n",
      "    rasterized = None\n",
      "    sketch_params = None\n",
      "    snap = None\n",
      "    transform = CompositeGenericTransform(CompositeGenericTransfor...\n",
      "    transformed_clip_path_and_affine = (None, None)\n",
      "    url = None\n",
      "    verts = [[   0.    0.]  [ 640.    0.]  [ 640.  478.]  [   ...\n",
      "    visible = True\n",
      "    width = 1.0\n",
      "    window_extent = Bbox(x0=0.0, y0=0.0, x1=640.0, y1=478.0)\n",
      "    x = 0.0\n",
      "    xy = (0.0, 0.0)\n",
      "    y = 0.0\n",
      "    zorder = 1\n"
     ]
    },
    {
     "name": "stderr",
     "output_type": "stream",
     "text": [
      "C:\\Anaconda3\\lib\\site-packages\\matplotlib\\artist.py:221: MatplotlibDeprecationWarning: This has been deprecated in mpl 1.5, please use the\n",
      "axes property.  A removal date has not been set.\n",
      "  warnings.warn(_get_axes_msg, mplDeprecation, stacklevel=1)\n"
     ]
    }
   ],
   "source": [
    "import matplotlib\n",
    "matplotlib.artist.getp(fig.patch)"
   ]
  },
  {
   "cell_type": "code",
   "execution_count": 9,
   "metadata": {
    "collapsed": false
   },
   "outputs": [
    {
     "name": "stdout",
     "output_type": "stream",
     "text": [
      "[<matplotlib.axes._subplots.AxesSubplot object at 0x04EF5FB0>, <matplotlib.axes._axes.Axes object at 0x04DC2750>]\n"
     ]
    }
   ],
   "source": [
    "print(fig.axes)"
   ]
  },
  {
   "cell_type": "code",
   "execution_count": 14,
   "metadata": {
    "collapsed": false
   },
   "outputs": [
    {
     "name": "stdout",
     "output_type": "stream",
     "text": [
      "None\n"
     ]
    },
    {
     "name": "stderr",
     "output_type": "stream",
     "text": [
      "C:\\Anaconda3\\lib\\site-packages\\matplotlib\\artist.py:221: MatplotlibDeprecationWarning: This has been deprecated in mpl 1.5, please use the\n",
      "axes property.  A removal date has not been set.\n",
      "  warnings.warn(_get_axes_msg, mplDeprecation, stacklevel=1)\n"
     ]
    }
   ],
   "source": [
    "fig = plt.figure()\n",
    "rect = matplotlib.patches.Rectangle( (1,1), width=5, height=12)\n",
    "print (rect.get_axes())"
   ]
  },
  {
   "cell_type": "code",
   "execution_count": 16,
   "metadata": {
    "collapsed": false
   },
   "outputs": [
    {
     "data": {
      "text/plain": [
       "[<matplotlib.lines.Line2D at 0x69954b0>]"
      ]
     },
     "execution_count": 16,
     "metadata": {},
     "output_type": "execute_result"
    }
   ],
   "source": [
    "ax = fig.add_subplot(111)\n",
    "ax.plot([1,2,3],'-g')"
   ]
  },
  {
   "cell_type": "code",
   "execution_count": 17,
   "metadata": {
    "collapsed": false
   },
   "outputs": [
    {
     "data": {
      "text/plain": [
       "<matplotlib.patches.Rectangle at 0x52d2cb0>"
      ]
     },
     "execution_count": 17,
     "metadata": {},
     "output_type": "execute_result"
    }
   ],
   "source": [
    "ax.add_patch(rect)"
   ]
  },
  {
   "cell_type": "code",
   "execution_count": 19,
   "metadata": {
    "collapsed": false
   },
   "outputs": [
    {
     "name": "stdout",
     "output_type": "stream",
     "text": [
      "Axes(0.125,0.1;0.775x0.8)\n"
     ]
    },
    {
     "name": "stderr",
     "output_type": "stream",
     "text": [
      "C:\\Anaconda3\\lib\\site-packages\\matplotlib\\artist.py:221: MatplotlibDeprecationWarning: This has been deprecated in mpl 1.5, please use the\n",
      "axes property.  A removal date has not been set.\n",
      "  warnings.warn(_get_axes_msg, mplDeprecation, stacklevel=1)\n"
     ]
    }
   ],
   "source": [
    "print (rect.get_axes())"
   ]
  },
  {
   "cell_type": "code",
   "execution_count": 18,
   "metadata": {
    "collapsed": true
   },
   "outputs": [],
   "source": [
    "plt.show()"
   ]
  },
  {
   "cell_type": "code",
   "execution_count": 25,
   "metadata": {
    "collapsed": true
   },
   "outputs": [],
   "source": [
    "import numpy as np\n",
    "import matplotlib.pyplot as plt\n",
    "import matplotlib.ticker as ticker\n",
    "\n",
    "fig = plt.figure()\n",
    "ax = fig.add_subplot(111)\n",
    "ax.plot(100*np.random.rand(20))\n",
    "\n",
    "formatter = ticker.FormatStrFormatter('Rs.%1.2f')\n",
    "ax.yaxis.set_major_formatter(formatter)\n",
    "\n",
    "for tick in ax.yaxis.get_major_ticks():\n",
    "    tick.label1On = False\n",
    "    tick.label2On = True\n",
    "    tick.label2.set_color('green')\n",
    "plt.show()"
   ]
  },
  {
   "cell_type": "code",
   "execution_count": 26,
   "metadata": {
    "collapsed": false
   },
   "outputs": [
    {
     "data": {
      "text/plain": [
       "False"
      ]
     },
     "execution_count": 26,
     "metadata": {},
     "output_type": "execute_result"
    }
   ],
   "source": [
    " matplotlib.is_interactive()"
   ]
  },
  {
   "cell_type": "code",
   "execution_count": null,
   "metadata": {
    "collapsed": false
   },
   "outputs": [],
   "source": [
    "import matplotlib.pyplot as plt\n",
    "plt.ion()\n",
    "plt.plot([1.6, 2.7])"
   ]
  },
  {
   "cell_type": "code",
   "execution_count": 1,
   "metadata": {
    "collapsed": true
   },
   "outputs": [],
   "source": [
    "import numpy as np\n",
    "import matplotlib.pyplot as plt\n",
    "plt.ioff()\n",
    "for i in range(3):\n",
    "    plt.plot(np.random.rand(10))\n",
    "    plt.show()"
   ]
  },
  {
   "cell_type": "code",
   "execution_count": null,
   "metadata": {
    "collapsed": true
   },
   "outputs": [],
   "source": []
  }
 ],
 "metadata": {
  "kernelspec": {
   "display_name": "Python 3",
   "language": "python",
   "name": "python3"
  },
  "language_info": {
   "codemirror_mode": {
    "name": "ipython",
    "version": 3
   },
   "file_extension": ".py",
   "mimetype": "text/x-python",
   "name": "python",
   "nbconvert_exporter": "python",
   "pygments_lexer": "ipython3",
   "version": "3.5.1"
  }
 },
 "nbformat": 4,
 "nbformat_minor": 0
}
