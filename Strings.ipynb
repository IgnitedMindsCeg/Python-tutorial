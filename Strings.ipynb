{
 "cells": [
  {
   "cell_type": "markdown",
   "metadata": {},
   "source": [
    "# Introduction to String"
   ]
  },
  {
   "cell_type": "markdown",
   "metadata": {},
   "source": [
    "strings are usually less important in numerical computing than in many other uses of Python such as web-based activities.  None the less, it is often useful to have a minimal understanding of strings, such as how to format numbers to output tables.  "
   ]
  },
  {
   "cell_type": "markdown",
   "metadata": {},
   "source": [
    "## Imports"
   ]
  },
  {
   "cell_type": "code",
   "execution_count": 1,
   "metadata": {
    "collapsed": false
   },
   "outputs": [],
   "source": [
    "from __future__ import print_function\n",
    "import numpy as np"
   ]
  },
  {
   "cell_type": "markdown",
   "metadata": {},
   "source": [
    "## Basic string use"
   ]
  },
  {
   "cell_type": "markdown",
   "metadata": {},
   "source": [
    "There are two basic types of strings, `str` and `unicode`, although _raw_ string, which are just `str`, are often useful for sequences with backslashes (`\\ `).  In most Python strings, characters containing a backslash are escapes, so that \\n produces a new line, \\t a tab, and \\\\ produces a single backslash.  However, when the backslashes should be treated as backslashes and not escape sequences, using raw strings will make entering them easier.  For example compare the following strings which are identical.\n",
    "\n",
    "```python\n",
    "'c:\\\\temp\\\\some_dir\\\\nested_dir\\\\'\n",
    "r'c:\\temp\\some_dit\\nested_dir'\n",
    "```\n",
    "\n",
    "Unicode strings allow for characters beyond the usual 127 character ASCII set and are used like raw strings, only prefixing a `u`, or by explicitly calling `unicode` as in \n",
    "\n",
    "```python\n",
    "u'A unicode string'\n",
    "unicode('A unicode string')\n",
    "```"
   ]
  },
  {
   "cell_type": "code",
   "execution_count": 2,
   "metadata": {
    "collapsed": false
   },
   "outputs": [
    {
     "name": "stdout",
     "output_type": "stream",
     "text": [
      "This is a string.\n",
      "This will be a new line and\twill be a tab\n",
      "This is a string.\\nThis will be a new line and\\twill be a tab\n",
      "This is a string.\n",
      "This will be a new line and\twill be a tab\n"
     ]
    }
   ],
   "source": [
    "string = 'This is a string.\\nThis will be a new line and\\twill be a tab'\n",
    "raw = r'This is a string.\\nThis will be a new line and\\twill be a tab'\n",
    "unicode_string = u'This is a string.\\nThis will be a new line and\\twill be a tab'\n",
    "\n",
    "print(string)\n",
    "print(raw)\n",
    "print(unicode_string)"
   ]
  },
  {
   "cell_type": "markdown",
   "metadata": {},
   "source": [
    "Basic string addition and multiplication was introduced in an earlier lesson, and is reproduced below."
   ]
  },
  {
   "cell_type": "code",
   "execution_count": 3,
   "metadata": {
    "collapsed": false
   },
   "outputs": [
    {
     "name": "stdout",
     "output_type": "stream",
     "text": [
      "********************\n",
      "ab\n"
     ]
    }
   ],
   "source": [
    "print('*' * 20)\n",
    "print('a' + 'b')"
   ]
  },
  {
   "cell_type": "markdown",
   "metadata": {},
   "source": [
    "Strings can be joined using another character (or general string) using `join`."
   ]
  },
  {
   "cell_type": "code",
   "execution_count": 4,
   "metadata": {
    "collapsed": false
   },
   "outputs": [
    {
     "name": "stdout",
     "output_type": "stream",
     "text": [
      "a, b, c\n"
     ]
    }
   ],
   "source": [
    "joined = ', '.join(('a','b','c'))\n",
    "print(joined)"
   ]
  },
  {
   "cell_type": "markdown",
   "metadata": {},
   "source": [
    "Similarly, `split` can be used to split on a character or general string and `strip` can be used to remove whitespace characters."
   ]
  },
  {
   "cell_type": "code",
   "execution_count": 5,
   "metadata": {
    "collapsed": false
   },
   "outputs": [
    {
     "name": "stdout",
     "output_type": "stream",
     "text": [
      "['a', ' b', ' c']\n",
      "['a', 'b', 'c']\n"
     ]
    }
   ],
   "source": [
    "split = joined.split(',')\n",
    "print(split)\n",
    "\n",
    "stripped = [s.strip() for s in split]\n",
    "print(stripped)"
   ]
  },
  {
   "cell_type": "markdown",
   "metadata": {},
   "source": [
    "## Formatting Strings - New Method"
   ]
  },
  {
   "cell_type": "markdown",
   "metadata": {},
   "source": [
    "The modern method to produce formatted strings from numbers is to use `format` with a string that contains text like `{0}`, `{keyword}` or `{1:`_format_`}` where _format_ is a format string which describes how the number of should be output. \n",
    "\n",
    "When used with numbers, e.g. `{0}` or `{1:0.3f}`, the number is used as a positional argument for the inputs to `format`.\n",
    "\n",
    "The three conversions below show the default output, a format that controls the number of decimal places `0.3f` and one which always uses exponential notation (`0.4e`) with a fixed number of places to the right of the decimal"
   ]
  },
  {
   "cell_type": "code",
   "execution_count": 6,
   "metadata": {
    "collapsed": false
   },
   "outputs": [
    {
     "data": {
      "text/plain": [
       "'Three important numbers are 3.141592653589793, 2.718 and 1.6180e+00'"
      ]
     },
     "execution_count": 6,
     "metadata": {},
     "output_type": "execute_result"
    }
   ],
   "source": [
    "pi, e, golden = np.pi, np.exp(1), 0.5+np.sqrt(5)/2\n",
    "'Three important numbers are {0}, {1:0.3f} and {2:0.4e}'.format(pi,e,golden)"
   ]
  },
  {
   "cell_type": "markdown",
   "metadata": {},
   "source": [
    "The next example is identical only using named arguments, which are used in `format` with keyword arguments."
   ]
  },
  {
   "cell_type": "code",
   "execution_count": 7,
   "metadata": {
    "collapsed": false
   },
   "outputs": [
    {
     "data": {
      "text/plain": [
       "'Three important numbers are 3.141593, 2.718 and 1.6180e+00'"
      ]
     },
     "execution_count": 7,
     "metadata": {},
     "output_type": "execute_result"
    }
   ],
   "source": [
    "'Three important numbers are {pi:f}, {e:0.3f} and {gr:0.4e}'.format(pi=pi,e=e,gr=golden)"
   ]
  },
  {
   "cell_type": "markdown",
   "metadata": {},
   "source": [
    "One of the advantages of \"new\" style format strings are that they can be used repeatedly without passing an additional value."
   ]
  },
  {
   "cell_type": "code",
   "execution_count": 8,
   "metadata": {
    "collapsed": false
   },
   "outputs": [
    {
     "data": {
      "text/plain": [
       "'Three important numbers are 2.718, 1.6180e+00 and 3.1415926535898 (bka 3.14)'"
      ]
     },
     "execution_count": 8,
     "metadata": {},
     "output_type": "execute_result"
    }
   ],
   "source": [
    "base = 'Three important numbers are {e:0.3f}, {golden:0.4e} and {pi:0.13f} (bka {pi:0.2f})'\n",
    "base.format(pi=np.pi,e=np.exp(1),golden=0.5+np.sqrt(5)/2)"
   ]
  },
  {
   "cell_type": "markdown",
   "metadata": {},
   "source": [
    "## Formats"
   ]
  },
  {
   "cell_type": "markdown",
   "metadata": {},
   "source": [
    "`0.`_n_`f` is probably the most useful, where _n_ controlled the number of decimal places shown"
   ]
  },
  {
   "cell_type": "code",
   "execution_count": 9,
   "metadata": {
    "collapsed": false
   },
   "outputs": [
    {
     "data": {
      "text/plain": [
       "'Pi is 3.1416'"
      ]
     },
     "execution_count": 9,
     "metadata": {},
     "output_type": "execute_result"
    }
   ],
   "source": [
    "'Pi is {0:0.4f}'.format(np.pi)"
   ]
  },
  {
   "cell_type": "markdown",
   "metadata": {},
   "source": [
    "`g` is general, and is not always identical to `f` since _n_ is now the total number of digits shows.  It is also different for large numbers where it switches to `e`."
   ]
  },
  {
   "cell_type": "code",
   "execution_count": 10,
   "metadata": {
    "collapsed": false
   },
   "outputs": [
    {
     "data": {
      "text/plain": [
       "'Pi is 3.142, and when multiplied by a  large number 3.142e+09'"
      ]
     },
     "execution_count": 10,
     "metadata": {},
     "output_type": "execute_result"
    }
   ],
   "source": [
    "'Pi is {0:0.4g}, and when multiplied by a  large number {1:0.4g}'.format(pi, 1000000000*pi)"
   ]
  },
  {
   "cell_type": "code",
   "execution_count": 11,
   "metadata": {
    "collapsed": false
   },
   "outputs": [
    {
     "data": {
      "text/plain": [
       "'100 times Pi is 314.1593'"
      ]
     },
     "execution_count": 11,
     "metadata": {},
     "output_type": "execute_result"
    }
   ],
   "source": [
    "'100 times Pi is {0:0.4f}'.format(100 * pi)"
   ]
  },
  {
   "cell_type": "code",
   "execution_count": 12,
   "metadata": {
    "collapsed": false
   },
   "outputs": [
    {
     "data": {
      "text/plain": [
       "'100 times Pi is 314.2'"
      ]
     },
     "execution_count": 12,
     "metadata": {},
     "output_type": "execute_result"
    }
   ],
   "source": [
    "'100 times Pi is {0:0.4g}'.format(100 * pi)"
   ]
  },
  {
   "cell_type": "markdown",
   "metadata": {},
   "source": [
    "`e` always uses exponential notation."
   ]
  },
  {
   "cell_type": "code",
   "execution_count": 13,
   "metadata": {
    "collapsed": false
   },
   "outputs": [
    {
     "data": {
      "text/plain": [
       "'Pi is 3.142e+00'"
      ]
     },
     "execution_count": 13,
     "metadata": {},
     "output_type": "execute_result"
    }
   ],
   "source": [
    "'Pi is {0:0.3e}'.format(np.pi)"
   ]
  },
  {
   "cell_type": "markdown",
   "metadata": {},
   "source": [
    "`%` can be used to output percents (which are automatically scaled by 100)."
   ]
  },
  {
   "cell_type": "code",
   "execution_count": 14,
   "metadata": {
    "collapsed": false
   },
   "outputs": [
    {
     "data": {
      "text/plain": [
       "'Pi is 314.159% (in percent)'"
      ]
     },
     "execution_count": 14,
     "metadata": {},
     "output_type": "execute_result"
    }
   ],
   "source": [
    "'Pi is {0:0.3%} (in percent)'.format(np.pi)"
   ]
  },
  {
   "cell_type": "markdown",
   "metadata": {},
   "source": [
    "The leading digit can be used to control the size of the output, which produces padding when the number is small."
   ]
  },
  {
   "cell_type": "code",
   "execution_count": 15,
   "metadata": {
    "collapsed": false
   },
   "outputs": [
    {
     "data": {
      "text/plain": [
       "'Pi is                3.142 (lots of spaces!), but fewer here    3141592653589.793'"
      ]
     },
     "execution_count": 15,
     "metadata": {},
     "output_type": "execute_result"
    }
   ],
   "source": [
    "'Pi is {0:20.3f} (lots of spaces!), but fewer here {1:20.3f}'.format(pi, 1000000000000*pi)"
   ]
  },
  {
   "cell_type": "markdown",
   "metadata": {},
   "source": [
    "Similarly, `+` can be added to always show a sign.  The default behavior is to only show the sign when negative.  `-` can be added in place of plus to always include a blank space when the number if positive and a minus sign when negative, and is useful for aligning output."
   ]
  },
  {
   "cell_type": "code",
   "execution_count": 16,
   "metadata": {
    "collapsed": false
   },
   "outputs": [
    {
     "data": {
      "text/plain": [
       "'Pi is +3.142 (with a sign!)'"
      ]
     },
     "execution_count": 16,
     "metadata": {},
     "output_type": "execute_result"
    }
   ],
   "source": [
    "'Pi is {0:+0.3f} (with a sign!)'.format(np.pi)"
   ]
  },
  {
   "cell_type": "markdown",
   "metadata": {},
   "source": [
    "## Formatting Strings - Old Method"
   ]
  },
  {
   "cell_type": "markdown",
   "metadata": {},
   "source": [
    "Python 2.x still allows for old-style formatting using simple format strings which always start with `%` and then contain the format.  These are used with the `%` at the end of the string followed by a tuple with the required values (strictly in order)."
   ]
  },
  {
   "cell_type": "code",
   "execution_count": 17,
   "metadata": {
    "collapsed": false
   },
   "outputs": [
    {
     "data": {
      "text/plain": [
       "'Three important numbers are 3.141593, 2.718 and 1.6180e+00'"
      ]
     },
     "execution_count": 17,
     "metadata": {},
     "output_type": "execute_result"
    }
   ],
   "source": [
    "'Three important numbers are %f, %0.3f and %0.4e' % (np.pi,np.exp(1),0.5+np.sqrt(5)/2)"
   ]
  },
  {
   "cell_type": "markdown",
   "metadata": {},
   "source": [
    "## Conversion from strings"
   ]
  },
  {
   "cell_type": "markdown",
   "metadata": {},
   "source": [
    "String conversion to integers, longs, floats and complex numbers is simple using `int`, `long`, `float` and `complex`"
   ]
  },
  {
   "cell_type": "code",
   "execution_count": 19,
   "metadata": {
    "collapsed": false
   },
   "outputs": [
    {
     "data": {
      "text/plain": [
       "32"
      ]
     },
     "execution_count": 19,
     "metadata": {},
     "output_type": "execute_result"
    }
   ],
   "source": [
    "int('32')"
   ]
  },
  {
   "cell_type": "code",
   "execution_count": 21,
   "metadata": {
    "collapsed": false
   },
   "outputs": [
    {
     "data": {
      "text/plain": [
       "32.0"
      ]
     },
     "execution_count": 21,
     "metadata": {},
     "output_type": "execute_result"
    }
   ],
   "source": [
    "float('32')"
   ]
  },
  {
   "cell_type": "code",
   "execution_count": 22,
   "metadata": {
    "collapsed": false
   },
   "outputs": [
    {
     "data": {
      "text/plain": [
       "(2+3j)"
      ]
     },
     "execution_count": 22,
     "metadata": {},
     "output_type": "execute_result"
    }
   ],
   "source": [
    "complex('2+3j')"
   ]
  },
  {
   "cell_type": "markdown",
   "metadata": {},
   "source": [
    "Note that trying to convert a non-string results in a ValueError."
   ]
  },
  {
   "cell_type": "code",
   "execution_count": 23,
   "metadata": {
    "collapsed": false
   },
   "outputs": [
    {
     "ename": "ValueError",
     "evalue": "could not convert string to float: 'apple'",
     "output_type": "error",
     "traceback": [
      "\u001b[1;31m---------------------------------------------------------------------------\u001b[0m",
      "\u001b[1;31mValueError\u001b[0m                                Traceback (most recent call last)",
      "\u001b[1;32m<ipython-input-23-e669e07963ee>\u001b[0m in \u001b[0;36m<module>\u001b[1;34m()\u001b[0m\n\u001b[1;32m----> 1\u001b[1;33m \u001b[0mfloat\u001b[0m\u001b[1;33m(\u001b[0m\u001b[1;34m'apple'\u001b[0m\u001b[1;33m)\u001b[0m\u001b[1;33m\u001b[0m\u001b[0m\n\u001b[0m",
      "\u001b[1;31mValueError\u001b[0m: could not convert string to float: 'apple'"
     ]
    }
   ],
   "source": [
    "float('apple')"
   ]
  },
  {
   "cell_type": "markdown",
   "metadata": {},
   "source": [
    "When automatically parsing a string from a file, it is usually a good idea to use `try` and `except` to avoid errors."
   ]
  },
  {
   "cell_type": "markdown",
   "metadata": {},
   "source": [
    "Note that trying to convert a non-string results in a ValueError."
   ]
  },
  {
   "cell_type": "code",
   "execution_count": 24,
   "metadata": {
    "collapsed": false
   },
   "outputs": [
    {
     "name": "stdout",
     "output_type": "stream",
     "text": [
      "complex\n"
     ]
    }
   ],
   "source": [
    "#x = 'apple'\n",
    "x = '3.14+2j'\n",
    "try:\n",
    "    int(x)\n",
    "    print('int')\n",
    "except:\n",
    "    try:\n",
    "        float(x)\n",
    "        print('float')\n",
    "    except:\n",
    "        try:\n",
    "            complex(x)\n",
    "            print('complex')\n",
    "        except:\n",
    "            print('Not a number')\n",
    "            "
   ]
  },
  {
   "cell_type": "code",
   "execution_count": null,
   "metadata": {
    "collapsed": true
   },
   "outputs": [],
   "source": []
  }
 ],
 "metadata": {
  "kernelspec": {
   "display_name": "Python 3",
   "language": "python",
   "name": "python3"
  },
  "language_info": {
   "codemirror_mode": {
    "name": "ipython",
    "version": 3
   },
   "file_extension": ".py",
   "mimetype": "text/x-python",
   "name": "python",
   "nbconvert_exporter": "python",
   "pygments_lexer": "ipython3",
   "version": "3.5.1"
  }
 },
 "nbformat": 4,
 "nbformat_minor": 0
}
