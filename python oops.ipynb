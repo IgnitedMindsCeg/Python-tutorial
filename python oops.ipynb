{
 "cells": [
  {
   "cell_type": "markdown",
   "metadata": {},
   "source": [
    "# Python Object Oriented"
   ]
  },
  {
   "cell_type": "markdown",
   "metadata": {},
   "source": [
    "Class: A user-defined prototype for an object that defines a set of attributes that characterize any object of the class. The attributes are data members (class variables and instance variables) and methods, accessed via dot notation. \n",
    "\n",
    "The first method \\__init__() is a special method, which is called class constructor or initialization method that Python calls when you create a new instance of this class.\n",
    "\n",
    "You declare other class methods like normal functions with the exception that the first argument to each method is self. Python adds the self argument to the list for you; you do not need to include it when you call the methods.\n",
    "\n",
    "To create instances of a class, you call the class using class name and pass in whatever arguments its \\__init__ method accepts."
   ]
  },
  {
   "cell_type": "code",
   "execution_count": 7,
   "metadata": {
    "collapsed": false
   },
   "outputs": [
    {
     "name": "stdout",
     "output_type": "stream",
     "text": [
      "Area of the Box= 2000\n"
     ]
    }
   ],
   "source": [
    "class Box:\n",
    "    '''This is parant class'''\n",
    "    #breadth=0\n",
    "    #width=0\n",
    "    def __init__(self,w,b):\n",
    "        self.breadth=b\n",
    "        self.width=w\n",
    "    def calArea(self):\n",
    "        return self.breadth*self.width\n",
    "    \n",
    "if __name__=='__main__':\n",
    "    B1=Box(200,10)\n",
    "    print('Area of the Box=',B1.calArea())"
   ]
  },
  {
   "cell_type": "markdown",
   "metadata": {},
   "source": [
    "# Class Inheritance"
   ]
  },
  {
   "cell_type": "code",
   "execution_count": 3,
   "metadata": {
    "collapsed": false
   },
   "outputs": [
    {
     "name": "stdout",
     "output_type": "stream",
     "text": [
      "Area of the Box= 20\n",
      "Volume of the cube= 240\n"
     ]
    }
   ],
   "source": [
    "class Cube(Box):\n",
    "    '''This is child class'''\n",
    "    height=0\n",
    "    def __init__(self,w,b,h):\n",
    "        super().__init__(w,b)\n",
    "        self.height=h;\n",
    "    def calVolume(self):\n",
    "        return super().calArea()*self.height\n",
    "        \n",
    "if __name__=='__main__':\n",
    "    V1=Cube(2,10,12)\n",
    "    print('Area of the Box=',V1.calArea())\n",
    "    print('Volume of the cube=',V1.calVolume()) \n",
    "    "
   ]
  },
  {
   "cell_type": "markdown",
   "metadata": {},
   "source": [
    "# Built-In Class Attributes"
   ]
  },
  {
   "cell_type": "markdown",
   "metadata": {},
   "source": [
    "Every Python class keeps following built-in attributes and they can be accessed using dot operator like any other attribute −\n",
    "\n",
    "    __dict__: Dictionary containing the class's namespace.\n",
    "\n",
    "    __doc__: Class documentation string or none, if undefined.\n",
    "\n",
    "    __name__: Class name. \n",
    "    \n",
    "    __module__: Module name in which the class is defined. This attribute is \"__main__\" in interactive mode.\n",
    "    \n",
    "    __bases__: A possibly empty tuple containing the base classes, in the order of their occurrence in the base class list.\n",
    "\n",
    "    \n"
   ]
  },
  {
   "cell_type": "code",
   "execution_count": 33,
   "metadata": {
    "collapsed": false
   },
   "outputs": [
    {
     "name": "stdout",
     "output_type": "stream",
     "text": [
      "V1.__dict__=> {'breadth': 10, 'height': 12, 'width': 2}\n"
     ]
    }
   ],
   "source": [
    "print('V1.__dict__=>',V1.__dict__)"
   ]
  },
  {
   "cell_type": "code",
   "execution_count": 34,
   "metadata": {
    "collapsed": false
   },
   "outputs": [
    {
     "name": "stdout",
     "output_type": "stream",
     "text": [
      "V1.__doc__=> Thi is child class\n"
     ]
    }
   ],
   "source": [
    "print('V1.__doc__=>',V1.__doc__)"
   ]
  },
  {
   "cell_type": "code",
   "execution_count": 35,
   "metadata": {
    "collapsed": false
   },
   "outputs": [
    {
     "name": "stdout",
     "output_type": "stream",
     "text": [
      "V1.__module__=> __main__\n"
     ]
    }
   ],
   "source": [
    "print('V1.__module__=>',V1.__module__)"
   ]
  },
  {
   "cell_type": "code",
   "execution_count": 4,
   "metadata": {
    "collapsed": false
   },
   "outputs": [
    {
     "name": "stdout",
     "output_type": "stream",
     "text": [
      "Cube.__module__=> Cube\n",
      "V1.__class__.__name__=> Cube\n"
     ]
    }
   ],
   "source": [
    "print('Cube.__module__=>',Cube.__name__)\n",
    "print('V1.__class__.__name__=>',V1.__class__.__name__)"
   ]
  },
  {
   "cell_type": "code",
   "execution_count": 43,
   "metadata": {
    "collapsed": false
   },
   "outputs": [
    {
     "name": "stdout",
     "output_type": "stream",
     "text": [
      "Cube.__bases__=> (<class '__main__.Box'>,)\n",
      "V1.__class__.__bases__=> (<class '__main__.Box'>,)\n"
     ]
    }
   ],
   "source": [
    "print('Cube.__bases__=>',Cube.__bases__)\n",
    "print('V1.__class__.__bases__=>',V1.__class__.__bases__)"
   ]
  },
  {
   "cell_type": "code",
   "execution_count": 12,
   "metadata": {
    "collapsed": false
   },
   "outputs": [
    {
     "name": "stdout",
     "output_type": "stream",
     "text": [
      "1.2\n"
     ]
    },
    {
     "data": {
      "text/plain": [
       "float"
      ]
     },
     "execution_count": 12,
     "metadata": {},
     "output_type": "execute_result"
    }
   ],
   "source": [
    "b=float(1.2)\n",
    "print(b)\n",
    "b.__class__"
   ]
  },
  {
   "cell_type": "code",
   "execution_count": 5,
   "metadata": {
    "collapsed": true
   },
   "outputs": [],
   "source": [
    "b=2.3"
   ]
  },
  {
   "cell_type": "code",
   "execution_count": 12,
   "metadata": {
    "collapsed": false
   },
   "outputs": [
    {
     "name": "stdout",
     "output_type": "stream",
     "text": [
      "I am looking for a course in Paris!\n",
      "Only in spring, but London is great as well!\n",
      "Only in spring, but London is great as well!\n"
     ]
    }
   ],
   "source": [
    "def f():\n",
    "    global s\n",
    "    print(s)\n",
    "    s = \"Only in spring, but London is great as well!\";\n",
    "    print(s)\n",
    "\n",
    "\n",
    "s = \"I am looking for a course in Paris!\" \n",
    "f()\n",
    "print(s)"
   ]
  },
  {
   "cell_type": "markdown",
   "metadata": {
    "collapsed": true
   },
   "source": [
    "# Python threading"
   ]
  },
  {
   "cell_type": "code",
   "execution_count": 4,
   "metadata": {
    "collapsed": false
   },
   "outputs": [
    {
     "name": "stdout",
     "output_type": "stream",
     "text": [
      "0\n",
      "1\n",
      "2\n",
      "3\n",
      "4\n",
      "5\n",
      "6\n",
      "7\n",
      "8\n",
      "9\n"
     ]
    }
   ],
   "source": [
    "import threading\n",
    " \n",
    "# Our thread class\n",
    "class MyThread (threading.Thread):\n",
    " \n",
    "    def __init__(self,x):\n",
    "        self.__x = x\n",
    "        threading.Thread.__init__(self)\n",
    " \n",
    "    def run (self):\n",
    "          print(str(self.__x))\n",
    " \n",
    "# Start 10 threads.\n",
    "for x in range(10):\n",
    "    MyThread(x).start()"
   ]
  },
  {
   "cell_type": "markdown",
   "metadata": {},
   "source": [
    "**Timed threads**\n",
    "\n",
    "In Python, the Timer class is a subclass of the Thread class. This means it behaves similar. We can use the timer class to create timed threads. Timers are started with the .start() method call, just like regular threads. The program below creates a thread that starts after 5 seconds."
   ]
  },
  {
   "cell_type": "code",
   "execution_count": 10,
   "metadata": {
    "collapsed": false
   },
   "outputs": [
    {
     "name": "stdout",
     "output_type": "stream",
     "text": [
      "hello, world\n"
     ]
    }
   ],
   "source": [
    "from threading import *\n",
    " \n",
    "def hello():\n",
    "    print (\"hello, world\")\n",
    " \n",
    "# create thread\n",
    "t = Timer(5.0, hello)\n",
    " \n",
    "# start thread after 5 seconds\n",
    "t.start()"
   ]
  },
  {
   "cell_type": "markdown",
   "metadata": {},
   "source": [
    "**Repeating functionality using threads**\n",
    "\n",
    "We can execute threads endlessly like this:"
   ]
  },
  {
   "cell_type": "code",
   "execution_count": 6,
   "metadata": {
    "collapsed": false
   },
   "outputs": [
    {
     "name": "stdout",
     "output_type": "stream",
     "text": [
      "Waiting for client 2...\n",
      "Waiting for client 2...\n",
      "Waiting for client 1...\n",
      "Waiting for client 1...\n",
      "Waiting for client 2...\n",
      "Waiting for client 2...\n",
      "Waiting for client 1...\n",
      "Waiting for client 1...\n",
      "Waiting for client 2...\n",
      "Waiting for client 2...\n",
      "Waiting for client 1...\n",
      "Waiting for client 1...\n",
      "Waiting for client 2...\n",
      "Waiting for client 2...\n",
      "Waiting for client 1...\n",
      "Waiting for client 1...\n"
     ]
    }
   ],
   "source": [
    "from threading import *\n",
    "import time\n",
    " \n",
    "def handleClient1():\n",
    "    while(True):\n",
    "        print(\"Waiting for client 1...\")\n",
    "        time.sleep(5) # wait 5 seconds      \n",
    " \n",
    "def handleClient2():\n",
    "    while(True):\n",
    "        print( \"Waiting for client 2...\")\n",
    "        time.sleep(5) # wait 5 seconds\n",
    " \n",
    "# create threads\n",
    "t = Timer(5.0, handleClient1)\n",
    "t2 = Timer(3.0, handleClient2)\n",
    " \n",
    "# start threads\n",
    "t.start()\n",
    "t2.start()"
   ]
  },
  {
   "cell_type": "code",
   "execution_count": null,
   "metadata": {
    "collapsed": true
   },
   "outputs": [],
   "source": []
  }
 ],
 "metadata": {
  "kernelspec": {
   "display_name": "Python 3",
   "language": "python",
   "name": "python3"
  },
  "language_info": {
   "codemirror_mode": {
    "name": "ipython",
    "version": 3
   },
   "file_extension": ".py",
   "mimetype": "text/x-python",
   "name": "python",
   "nbconvert_exporter": "python",
   "pygments_lexer": "ipython3",
   "version": "3.5.1"
  }
 },
 "nbformat": 4,
 "nbformat_minor": 0
}
