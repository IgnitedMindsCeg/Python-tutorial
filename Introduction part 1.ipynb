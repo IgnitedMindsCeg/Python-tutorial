{
 "cells": [
  {
   "cell_type": "markdown",
   "metadata": {
    "collapsed": true
   },
   "source": [
    "# Print"
   ]
  },
  {
   "cell_type": "code",
   "execution_count": 2,
   "metadata": {
    "collapsed": false
   },
   "outputs": [
    {
     "name": "stdout",
     "output_type": "stream",
     "text": [
      "Hello worlddd\n"
     ]
    }
   ],
   "source": [
    "print('Hello worlddd')"
   ]
  },
  {
   "cell_type": "code",
   "execution_count": 2,
   "metadata": {
    "collapsed": false
   },
   "outputs": [
    {
     "name": "stdout",
     "output_type": "stream",
     "text": [
      "Three type of quotes we can use\n"
     ]
    }
   ],
   "source": [
    "print(\"Three type of quotes we can use\")\n"
   ]
  },
  {
   "cell_type": "code",
   "execution_count": 5,
   "metadata": {
    "collapsed": false
   },
   "outputs": [
    {
     "name": "stdout",
     "output_type": "stream",
     "text": [
      "This is another eg to show \n",
      "that how trible qoutes can be usefull for\n",
      "paragraph type of string \n"
     ]
    }
   ],
   "source": [
    "print(\"\"\"This is another eg to show \n",
    "that how trible qoutes can be usefull for\n",
    "paragraph type of string \"\"\")"
   ]
  },
  {
   "cell_type": "code",
   "execution_count": 6,
   "metadata": {
    "collapsed": false
   },
   "outputs": [
    {
     "name": "stdout",
     "output_type": "stream",
     "text": [
      "We can use \" inside the string\n"
     ]
    }
   ],
   "source": [
    "print('We can use \" inside the string')"
   ]
  },
  {
   "cell_type": "code",
   "execution_count": 8,
   "metadata": {
    "collapsed": false
   },
   "outputs": [
    {
     "name": "stdout",
     "output_type": "stream",
     "text": [
      "But we can't use the same qoutes within the same qoute system directly \n",
      "for that purpose can use like \"\n"
     ]
    }
   ],
   "source": [
    "print(\"But we can't use the same qoutes within the same qoute system directly, \\nfor that purpose can use like \\\"\")"
   ]
  },
  {
   "cell_type": "code",
   "execution_count": 9,
   "metadata": {
    "collapsed": false
   },
   "outputs": [
    {
     "name": "stdout",
     "output_type": "stream",
     "text": [
      "We can concadinate stringslike this\n"
     ]
    }
   ],
   "source": [
    "print('We can concadinate strings '+\"like this\")"
   ]
  },
  {
   "cell_type": "code",
   "execution_count": 27,
   "metadata": {
    "collapsed": false
   },
   "outputs": [
    {
     "name": "stdout",
     "output_type": "stream",
     "text": [
      "We can concadinate strings like this\n"
     ]
    }
   ],
   "source": [
    "var='We can concadinate strings '+\"like this\"\n",
    "print(var)"
   ]
  },
  {
   "cell_type": "code",
   "execution_count": 14,
   "metadata": {
    "collapsed": false
   },
   "outputs": [
    {
     "name": "stdout",
     "output_type": "stream",
     "text": [
      "Value is 10\n"
     ]
    }
   ],
   "source": [
    "var=10\n",
    "print('Value is '+str(var))"
   ]
  },
  {
   "cell_type": "code",
   "execution_count": 32,
   "metadata": {
    "collapsed": false
   },
   "outputs": [
    {
     "name": "stdout",
     "output_type": "stream",
     "text": [
      "12 String Variable\n",
      "12 string variable\n",
      "12 STRING VARIABLE\n",
      "12 sTRING vARIABLE\n"
     ]
    }
   ],
   "source": [
    "intVar=12\n",
    "strVar='String Variable'\n",
    "print(intVar,strVar)\n",
    "print(intVar,strVar.lower())\n",
    "print(intVar,strVar.upper())\n",
    "print(intVar,strVar.swapcase())"
   ]
  },
  {
   "cell_type": "markdown",
   "metadata": {},
   "source": [
    "# Commants"
   ]
  },
  {
   "cell_type": "code",
   "execution_count": 19,
   "metadata": {
    "collapsed": false
   },
   "outputs": [
    {
     "name": "stdout",
     "output_type": "stream",
     "text": [
      "Python interpretor ignores the comments, but it is useful for coders for tracking their code\n"
     ]
    }
   ],
   "source": [
    "#This is a single line comment\n",
    "print('Python interpretor ignores the comments, but it is useful for coders for tracking their code')"
   ]
  },
  {
   "cell_type": "code",
   "execution_count": 23,
   "metadata": {
    "collapsed": false
   },
   "outputs": [
    {
     "name": "stdout",
     "output_type": "stream",
     "text": [
      "This multilin comment is simmilar to the single line comment except it has multiple lines\n"
     ]
    }
   ],
   "source": [
    "'''\n",
    "This is multiline comment and \n",
    "it is useful to add more text comments \n",
    "'''\n",
    "print('This multiline comment is simmilar to the single line comment except it has multiple lines')\n"
   ]
  },
  {
   "cell_type": "markdown",
   "metadata": {},
   "source": [
    "# Geting a input from user"
   ]
  },
  {
   "cell_type": "markdown",
   "metadata": {},
   "source": [
    "To get the input from the user we have to use \"input()\" function. It prompts text and pass the string that user typed.\n"
   ]
  },
  {
   "cell_type": "code",
   "execution_count": 3,
   "metadata": {
    "collapsed": false
   },
   "outputs": [
    {
     "name": "stdout",
     "output_type": "stream",
     "text": [
      "Enter the value:4354\n",
      "4354\n"
     ]
    }
   ],
   "source": [
    "x=input('Enter the value:')\n",
    "print(x)"
   ]
  },
  {
   "cell_type": "code",
   "execution_count": 26,
   "metadata": {
    "collapsed": false
   },
   "outputs": [
    {
     "name": "stdout",
     "output_type": "stream",
     "text": [
      "Enter the value:123\n",
      "125\n"
     ]
    }
   ],
   "source": [
    "x=input('Enter the value:')\n",
    "y=int(x)+2\n",
    "print(y)\n"
   ]
  },
  {
   "cell_type": "markdown",
   "metadata": {},
   "source": [
    "EX: Get the sides of the right-angled triangle as input and find hypotenuse   "
   ]
  },
  {
   "cell_type": "markdown",
   "metadata": {},
   "source": [
    "# String manipulation"
   ]
  },
  {
   "cell_type": "code",
   "execution_count": 33,
   "metadata": {
    "collapsed": false
   },
   "outputs": [
    {
     "name": "stdout",
     "output_type": "stream",
     "text": [
      "This is a string maniulation example\n",
      "Python privides mpre flexible ways for string maniulation \n"
     ]
    }
   ],
   "source": [
    "strVar=\"This is a string maniulation example\"+'\\nPython privides mpre flexible ways for string maniulation ' \n",
    "print(strVar)"
   ]
  },
  {
   "cell_type": "code",
   "execution_count": 34,
   "metadata": {
    "collapsed": false
   },
   "outputs": [
    {
     "name": "stdout",
     "output_type": "stream",
     "text": [
      "4\n"
     ]
    }
   ],
   "source": [
    "print(strVar.count('o'))"
   ]
  },
  {
   "cell_type": "code",
   "execution_count": 35,
   "metadata": {
    "collapsed": false
   },
   "outputs": [
    {
     "name": "stdout",
     "output_type": "stream",
     "text": [
      "10\n"
     ]
    }
   ],
   "source": [
    "print(strVar.find('string'))"
   ]
  },
  {
   "cell_type": "code",
   "execution_count": 37,
   "metadata": {
    "collapsed": false
   },
   "outputs": [
    {
     "name": "stdout",
     "output_type": "stream",
     "text": [
      "This is a integer maniulation example\n",
      "Python privides mpre flexible ways for integer maniulation \n"
     ]
    }
   ],
   "source": [
    "print(strVar.replace('string','integer'))"
   ]
  },
  {
   "cell_type": "code",
   "execution_count": 39,
   "metadata": {
    "collapsed": false
   },
   "outputs": [
    {
     "name": "stdout",
     "output_type": "stream",
     "text": [
      "THIS IS A STRING MANIULATION EXAMPLE\n",
      "PYTHON PRIVIDES MPRE FLEXIBLE WAYS FOR STRING MANIULATION \n"
     ]
    }
   ],
   "source": [
    "print(strVar.upper())"
   ]
  },
  {
   "cell_type": "code",
   "execution_count": 48,
   "metadata": {
    "collapsed": false
   },
   "outputs": [
    {
     "name": "stdout",
     "output_type": "stream",
     "text": [
      "h\n",
      " is a s\n",
      "ation\n"
     ]
    }
   ],
   "source": [
    "print(strVar[1])\n",
    "print(strVar[4:11])\n",
    "print(strVar[-6:-1])"
   ]
  },
  {
   "cell_type": "markdown",
   "metadata": {},
   "source": [
    "EX: get a string input and print first and last character "
   ]
  },
  {
   "cell_type": "markdown",
   "metadata": {
    "collapsed": false
   },
   "source": [
    "# Formating the output"
   ]
  },
  {
   "cell_type": "code",
   "execution_count": 1,
   "metadata": {
    "collapsed": false
   },
   "outputs": [
    {
     "name": "stdout",
     "output_type": "stream",
     "text": [
      "Square of 3=9.000000\n"
     ]
    }
   ],
   "source": [
    "x=3\n",
    "y=x**2\n",
    "print('Square of %d=%f'%(x,y))"
   ]
  },
  {
   "cell_type": "code",
   "execution_count": 4,
   "metadata": {
    "collapsed": false
   },
   "outputs": [
    {
     "name": "stdout",
     "output_type": "stream",
     "text": [
      "Square of 3=9.00\n"
     ]
    }
   ],
   "source": [
    "print('Square of %d=%0.2f'%(x,y))"
   ]
  },
  {
   "cell_type": "code",
   "execution_count": 5,
   "metadata": {
    "collapsed": false
   },
   "outputs": [
    {
     "name": "stdout",
     "output_type": "stream",
     "text": [
      "Square of 003=9.000000\n"
     ]
    }
   ],
   "source": [
    "print('Square of %03d=%f'%(x,y))"
   ]
  },
  {
   "cell_type": "code",
   "execution_count": 1,
   "metadata": {
    "collapsed": true
   },
   "outputs": [],
   "source": [
    "print?"
   ]
  },
  {
   "cell_type": "code",
   "execution_count": 47,
   "metadata": {
    "collapsed": false
   },
   "outputs": [
    {
     "name": "stdout",
     "output_type": "stream",
     "text": [
      "Square of 3=9.000000\n"
     ]
    }
   ],
   "source": [
    "x=3\n",
    "y=x**2\n",
    "print('Square of%2d=%f'%(x,y))"
   ]
  },
  {
   "cell_type": "code",
   "execution_count": 58,
   "metadata": {
    "collapsed": false
   },
   "outputs": [
    {
     "name": "stdout",
     "output_type": "stream",
     "text": [
      "Square of 3=9.00\n",
      "Cube of  3=27.00\n",
      "\n",
      "\n",
      "Square of 3=9.00\n",
      "Cube of  3=27.00\n"
     ]
    }
   ],
   "source": [
    "z=x**3\n",
    "print('Square of%2d=%0.2f\\nCube of %2d=%0.2f'%(x,y,x,z))\n",
    "print('\\n')\n",
    "print('Square of{0:2d}={1:0.2f}\\nCube of {0:2d}={2:0.2f}'.format(x,y,z))"
   ]
  },
  {
   "cell_type": "code",
   "execution_count": 59,
   "metadata": {
    "collapsed": false
   },
   "outputs": [
    {
     "name": "stdout",
     "output_type": "stream",
     "text": [
      "Square of 3=9.00\n",
      "Cube of  3=27.00\n"
     ]
    }
   ],
   "source": [
    "strVar='Square of{0:2d}={1:0.2f}\\nCube of {0:2d}={2:0.2f}'.format(x,y,z)\n",
    "print(strVar)"
   ]
  },
  {
   "cell_type": "code",
   "execution_count": 68,
   "metadata": {
    "collapsed": false
   },
   "outputs": [
    {
     "name": "stdout",
     "output_type": "stream",
     "text": [
      "Square of 3=9.00\n",
      "Cube of  3=27.00\n",
      "we can add further text here\n"
     ]
    }
   ],
   "source": [
    "print('Square of{0:2d}={1:0.2f}\\nCube of {0:2d}={2:0.2f}'.format(x,y,z) + '\\nwe can add further text here')"
   ]
  },
  {
   "cell_type": "code",
   "execution_count": 65,
   "metadata": {
    "collapsed": false
   },
   "outputs": [
    {
     "name": "stdout",
     "output_type": "stream",
     "text": [
      "We can breakthe leanghy single codeline intomultiple codeline, but we can't break the string\n"
     ]
    }
   ],
   "source": [
    "print('We can break' +\\\n",
    "    'the leanghy single codeline into'+\\\n",
    "     'multiple codeline'+\\\n",
    "      \", but we can't break the string\")"
   ]
  },
  {
   "cell_type": "markdown",
   "metadata": {},
   "source": [
    "# Datatype conversion"
   ]
  },
  {
   "cell_type": "markdown",
   "metadata": {},
   "source": [
    "There are functions to convert from one datatype to another."
   ]
  },
  {
   "cell_type": "markdown",
   "metadata": {},
   "source": [
    "int(value)  \tconverts to an integer\n",
    "long(value) \tconverts to a long integer\n",
    "float(value) \tconverts to a floating number \n",
    "                (i.e. a number that can hold decimal places)\n",
    "str(value)  \tconverts to a string"
   ]
  },
  {
   "cell_type": "code",
   "execution_count": 70,
   "metadata": {
    "collapsed": false
   },
   "outputs": [
    {
     "name": "stdout",
     "output_type": "stream",
     "text": [
      "Enter a:14\n",
      "Enter b:13\n",
      "27\n"
     ]
    }
   ],
   "source": [
    "a=input('Enter a:')\n",
    "b=input('Enter b:')\n",
    "c=int(a)+int(b)\n",
    "\n",
    "print(c)"
   ]
  },
  {
   "cell_type": "markdown",
   "metadata": {},
   "source": [
    "# Dates and times"
   ]
  },
  {
   "cell_type": "code",
   "execution_count": 1,
   "metadata": {
    "collapsed": true
   },
   "outputs": [],
   "source": [
    "import datetime"
   ]
  },
  {
   "cell_type": "code",
   "execution_count": 22,
   "metadata": {
    "collapsed": false
   },
   "outputs": [
    {
     "name": "stdout",
     "output_type": "stream",
     "text": [
      "2016-02-11\n"
     ]
    }
   ],
   "source": [
    "ctDat=datetime.date.today()\n",
    "print(ctDat)"
   ]
  },
  {
   "cell_type": "code",
   "execution_count": 3,
   "metadata": {
    "collapsed": false
   },
   "outputs": [
    {
     "name": "stdout",
     "output_type": "stream",
     "text": [
      "11 2 2016\n"
     ]
    }
   ],
   "source": [
    "print(ctDat.day,ctDat.month,ctDat.year)"
   ]
  },
  {
   "cell_type": "markdown",
   "metadata": {},
   "source": [
    "In Python we use strftime to format dates"
   ]
  },
  {
   "cell_type": "code",
   "execution_count": 4,
   "metadata": {
    "collapsed": false
   },
   "outputs": [
    {
     "name": "stdout",
     "output_type": "stream",
     "text": [
      "11\\February\\2016\n"
     ]
    }
   ],
   "source": [
    "print(ctDat.strftime('%d\\%B\\%Y'))"
   ]
  },
  {
   "cell_type": "markdown",
   "metadata": {},
   "source": [
    "Here’s a few more you may find useful\n",
    "\n",
    "%b is the month abbreviation\n",
    "\n",
    "%B is the full month name\n",
    "\n",
    "%y is two digit year\n",
    "\n",
    "%a is the day of the week abbreviated\n",
    "\n",
    "%A is the day of the week\n",
    "\n",
    "For a full list visit strftime.org \n",
    "\n"
   ]
  },
  {
   "cell_type": "code",
   "execution_count": 5,
   "metadata": {
    "collapsed": false
   },
   "outputs": [
    {
     "name": "stdout",
     "output_type": "stream",
     "text": [
      "Current day is 11 in munth Feb of the year 2016\n"
     ]
    }
   ],
   "source": [
    "strVar=ctDat.strftime('Current day is %d in munth %b of the year %Y')\n",
    "print(strVar)"
   ]
  },
  {
   "cell_type": "code",
   "execution_count": 6,
   "metadata": {
    "collapsed": false
   },
   "outputs": [
    {
     "name": "stdout",
     "output_type": "stream",
     "text": [
      "To know the exactly what it represents=> <class 'datetime.date'>\n",
      "<class 'builtin_function_or_method'>\n"
     ]
    }
   ],
   "source": [
    "print('To know the exactly what it represents=> '+str(type(ctDat)))\n",
    "print(type(ctDat.strftime))"
   ]
  },
  {
   "cell_type": "code",
   "execution_count": 23,
   "metadata": {
    "collapsed": false
   },
   "outputs": [
    {
     "name": "stdout",
     "output_type": "stream",
     "text": [
      "What is your birth date:03/10/90\n",
      "1990-10-03 00:00:00\n"
     ]
    }
   ],
   "source": [
    "birthDatStr=input('What is your birth date:')\n",
    "birthDat=datetime.datetime.strptime(birthDatStr,'%d/%m/%y')\n",
    "print(birthDat)"
   ]
  },
  {
   "cell_type": "code",
   "execution_count": 24,
   "metadata": {
    "collapsed": false
   },
   "outputs": [
    {
     "name": "stdout",
     "output_type": "stream",
     "text": [
      "9262 days, 0:00:00\n"
     ]
    }
   ],
   "source": [
    "diffDat=ctDat-birthDat.date()\n",
    "print(diffDat)"
   ]
  },
  {
   "cell_type": "code",
   "execution_count": 3,
   "metadata": {
    "collapsed": true
   },
   "outputs": [],
   "source": [
    "from dateutil.relativedelta import relativedelta"
   ]
  },
  {
   "cell_type": "code",
   "execution_count": 18,
   "metadata": {
    "collapsed": false
   },
   "outputs": [
    {
     "name": "stdout",
     "output_type": "stream",
     "text": [
      "relativedelta(years=+28, months=+2, days=+2)\n",
      "You are 28 old\n"
     ]
    }
   ],
   "source": [
    "diffDat=relativedelta(ctDat,birthDat.date())\n",
    "print(diffDat)\n",
    "print('You are '+str(diffDat.years) + ' old')"
   ]
  },
  {
   "cell_type": "code",
   "execution_count": 20,
   "metadata": {
    "collapsed": false
   },
   "outputs": [
    {
     "name": "stdout",
     "output_type": "stream",
     "text": [
      "2016-02-11 14:37:14.265958\n"
     ]
    }
   ],
   "source": [
    "ctDatNew=datetime.datetime.now()\n",
    "print(ctDatNew)"
   ]
  },
  {
   "cell_type": "code",
   "execution_count": 4,
   "metadata": {
    "collapsed": false
   },
   "outputs": [
    {
     "name": "stdout",
     "output_type": "stream",
     "text": [
      "What is your birth date with time(dd/mm/yy hr:min):12/10/15 00:00\n",
      "2015-10-12 00:00:00\n",
      "2016-02-14 16:37:53.308014\n",
      "relativedelta(months=+4, days=+2, hours=+16, minutes=+37, seconds=+53, microseconds=+308014)\n",
      "You are 0 years old\n"
     ]
    }
   ],
   "source": [
    "import datetime\n",
    "from dateutil.relativedelta import relativedelta\n",
    "birthDatStr=input('What is your birth date with time(dd/mm/yy hr:min):')\n",
    "birthDat=datetime.datetime.strptime(birthDatStr,'%d/%m/%y %H:%M')\n",
    "print(birthDat)\n",
    "\n",
    "ctDatNew=datetime.datetime.now()\n",
    "print(ctDatNew)\n",
    "diffDat=relativedelta(ctDatNew,birthDat.date())\n",
    "print(diffDat)\n",
    "print('You are '+str(diffDat.years) + ' years old')"
   ]
  },
  {
   "cell_type": "code",
   "execution_count": 16,
   "metadata": {
    "collapsed": false
   },
   "outputs": [
    {
     "name": "stdout",
     "output_type": "stream",
     "text": [
      "time.struct_time(tm_year=1987, tm_mon=12, tm_mday=9, tm_hour=0, tm_min=30, tm_sec=0, tm_wday=2, tm_yday=343, tm_isdst=-1)\n",
      "Thu Feb 11 22:39:31 2016\n"
     ]
    }
   ],
   "source": [
    "import time\n",
    "import datetime\n",
    "from dateutil.relativedelta import relativedelta\n",
    "birthDat=time.strptime(\"09 Dec 87 00 30\", \"%d %b %y %H %M\")\n",
    "print(birthDat)\n",
    "ctDatNew=time.strftime(\"%c\")\n",
    "print(ctDatNew)"
   ]
  },
  {
   "cell_type": "markdown",
   "metadata": {},
   "source": [
    "# import"
   ]
  },
  {
   "cell_type": "code",
   "execution_count": 1,
   "metadata": {
    "collapsed": true
   },
   "outputs": [],
   "source": [
    "import sys"
   ]
  },
  {
   "cell_type": "code",
   "execution_count": 4,
   "metadata": {
    "collapsed": false
   },
   "outputs": [
    {
     "data": {
      "text/plain": [
       "'3.5.1 |Anaconda 2.4.1 (32-bit)| (default, Jan 19 2016, 12:32:21) [MSC v.1900 32 bit (Intel)]'"
      ]
     },
     "execution_count": 4,
     "metadata": {},
     "output_type": "execute_result"
    }
   ],
   "source": [
    "sys.version\n"
   ]
  },
  {
   "cell_type": "code",
   "execution_count": 2,
   "metadata": {
    "collapsed": false
   },
   "outputs": [],
   "source": [
    "from sys import *"
   ]
  },
  {
   "cell_type": "code",
   "execution_count": 7,
   "metadata": {
    "collapsed": false
   },
   "outputs": [
    {
     "data": {
      "text/plain": [
       "'3.5.1 |Anaconda 2.4.1 (32-bit)| (default, Jan 19 2016, 12:32:21) [MSC v.1900 32 bit (Intel)]'"
      ]
     },
     "execution_count": 7,
     "metadata": {},
     "output_type": "execute_result"
    }
   ],
   "source": [
    "version"
   ]
  },
  {
   "cell_type": "code",
   "execution_count": 5,
   "metadata": {
    "collapsed": false
   },
   "outputs": [
    {
     "data": {
      "text/plain": [
       "'Z:\\\\Friends\\\\workspace\\\\py_stat'"
      ]
     },
     "execution_count": 5,
     "metadata": {},
     "output_type": "execute_result"
    }
   ],
   "source": [
    "import os\n",
    "os.getcwd()"
   ]
  },
  {
   "cell_type": "code",
   "execution_count": 7,
   "metadata": {
    "collapsed": true
   },
   "outputs": [],
   "source": [
    "os??"
   ]
  },
  {
   "cell_type": "code",
   "execution_count": null,
   "metadata": {
    "collapsed": true
   },
   "outputs": [],
   "source": []
  }
 ],
 "metadata": {
  "kernelspec": {
   "display_name": "Python 3",
   "language": "python",
   "name": "python3"
  },
  "language_info": {
   "codemirror_mode": {
    "name": "ipython",
    "version": 3
   },
   "file_extension": ".py",
   "mimetype": "text/x-python",
   "name": "python",
   "nbconvert_exporter": "python",
   "pygments_lexer": "ipython3",
   "version": "3.5.1"
  }
 },
 "nbformat": 4,
 "nbformat_minor": 0
}
