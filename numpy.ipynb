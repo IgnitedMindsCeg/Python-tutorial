{
 "cells": [
  {
   "cell_type": "code",
   "execution_count": 1,
   "metadata": {
    "collapsed": true
   },
   "outputs": [],
   "source": [
    "import numpy as np"
   ]
  },
  {
   "cell_type": "code",
   "execution_count": 6,
   "metadata": {
    "collapsed": false
   },
   "outputs": [
    {
     "data": {
      "text/plain": [
       "array([0, 1, 2, 3, 4, 5, 6, 7, 8, 9])"
      ]
     },
     "execution_count": 6,
     "metadata": {},
     "output_type": "execute_result"
    }
   ],
   "source": [
    "np.arange(10)"
   ]
  },
  {
   "cell_type": "code",
   "execution_count": 7,
   "metadata": {
    "collapsed": false
   },
   "outputs": [
    {
     "data": {
      "text/plain": [
       "array([1, 2, 3, 4, 5, 6, 7, 8, 9])"
      ]
     },
     "execution_count": 7,
     "metadata": {},
     "output_type": "execute_result"
    }
   ],
   "source": [
    "np.arange(1,10)"
   ]
  },
  {
   "cell_type": "code",
   "execution_count": 8,
   "metadata": {
    "collapsed": false
   },
   "outputs": [
    {
     "data": {
      "text/plain": [
       "array([ 1. ,  1.5,  2. ,  2.5,  3. ,  3.5,  4. ,  4.5,  5. ,  5.5,  6. ,\n",
       "        6.5,  7. ,  7.5,  8. ,  8.5,  9. ,  9.5])"
      ]
     },
     "execution_count": 8,
     "metadata": {},
     "output_type": "execute_result"
    }
   ],
   "source": [
    "np.arange(1,10,0.5)"
   ]
  },
  {
   "cell_type": "code",
   "execution_count": 7,
   "metadata": {
    "collapsed": false
   },
   "outputs": [
    {
     "data": {
      "text/plain": [
       "array([1, 3, 5, 7, 9])"
      ]
     },
     "execution_count": 7,
     "metadata": {},
     "output_type": "execute_result"
    }
   ],
   "source": [
    "np.arange(1,10,2)"
   ]
  },
  {
   "cell_type": "code",
   "execution_count": 9,
   "metadata": {
    "collapsed": false
   },
   "outputs": [
    {
     "data": {
      "text/plain": [
       "array([ 1.,  3.,  5.,  7.,  9.])"
      ]
     },
     "execution_count": 9,
     "metadata": {},
     "output_type": "execute_result"
    }
   ],
   "source": [
    "np.arange(1,10,2,dtype=np.float64)"
   ]
  },
  {
   "cell_type": "code",
   "execution_count": 12,
   "metadata": {
    "collapsed": false
   },
   "outputs": [
    {
     "data": {
      "text/plain": [
       "array([1, 1, 1, 1, 1, 1, 1, 1, 1, 1, 1, 1, 1, 1, 1, 1, 1, 1], dtype=int64)"
      ]
     },
     "execution_count": 12,
     "metadata": {},
     "output_type": "execute_result"
    }
   ],
   "source": [
    "np.arange(1,10,0.5,dtype=np.int64)"
   ]
  },
  {
   "cell_type": "markdown",
   "metadata": {},
   "source": [
    "# Examining ndarray"
   ]
  },
  {
   "cell_type": "code",
   "execution_count": 29,
   "metadata": {
    "collapsed": false
   },
   "outputs": [
    {
     "name": "stdout",
     "output_type": "stream",
     "text": [
      "[ 1.  3.  5.  7.  9.]\n"
     ]
    },
    {
     "data": {
      "text/plain": [
       "(5,)"
      ]
     },
     "execution_count": 29,
     "metadata": {},
     "output_type": "execute_result"
    }
   ],
   "source": [
    "da=np.arange(1,10,2,dtype=np.float64)\n",
    "print(da)\n",
    "da.shape"
   ]
  },
  {
   "cell_type": "code",
   "execution_count": 14,
   "metadata": {
    "collapsed": false
   },
   "outputs": [
    {
     "data": {
      "text/plain": [
       "5"
      ]
     },
     "execution_count": 14,
     "metadata": {},
     "output_type": "execute_result"
    }
   ],
   "source": [
    "da.size"
   ]
  },
  {
   "cell_type": "code",
   "execution_count": 15,
   "metadata": {
    "collapsed": false
   },
   "outputs": [
    {
     "data": {
      "text/plain": [
       "1"
      ]
     },
     "execution_count": 15,
     "metadata": {},
     "output_type": "execute_result"
    }
   ],
   "source": [
    "da.ndim"
   ]
  },
  {
   "cell_type": "code",
   "execution_count": 25,
   "metadata": {
    "collapsed": false
   },
   "outputs": [
    {
     "data": {
      "text/plain": [
       "dtype('int64')"
      ]
     },
     "execution_count": 25,
     "metadata": {},
     "output_type": "execute_result"
    }
   ],
   "source": [
    "da.dtype"
   ]
  },
  {
   "cell_type": "code",
   "execution_count": 18,
   "metadata": {
    "collapsed": false
   },
   "outputs": [
    {
     "data": {
      "text/plain": [
       "numpy.ndarray"
      ]
     },
     "execution_count": 18,
     "metadata": {},
     "output_type": "execute_result"
    }
   ],
   "source": [
    "type(da)"
   ]
  },
  {
   "cell_type": "code",
   "execution_count": 30,
   "metadata": {
    "collapsed": false
   },
   "outputs": [
    {
     "data": {
      "text/plain": [
       "8"
      ]
     },
     "execution_count": 30,
     "metadata": {},
     "output_type": "execute_result"
    }
   ],
   "source": [
    "da.itemsize"
   ]
  },
  {
   "cell_type": "code",
   "execution_count": 21,
   "metadata": {
    "collapsed": false
   },
   "outputs": [
    {
     "data": {
      "text/plain": [
       "[1, 3, 5, 7, 9]"
      ]
     },
     "execution_count": 21,
     "metadata": {},
     "output_type": "execute_result"
    }
   ],
   "source": [
    "x=da.data\n",
    "list(x)"
   ]
  },
  {
   "cell_type": "code",
   "execution_count": 22,
   "metadata": {
    "collapsed": false
   },
   "outputs": [
    {
     "data": {
      "text/plain": [
       "array([1, 3, 5, 7, 9])"
      ]
     },
     "execution_count": 22,
     "metadata": {},
     "output_type": "execute_result"
    }
   ],
   "source": [
    "da"
   ]
  },
  {
   "cell_type": "code",
   "execution_count": 23,
   "metadata": {
    "collapsed": false
   },
   "outputs": [
    {
     "data": {
      "text/plain": [
       "20"
      ]
     },
     "execution_count": 23,
     "metadata": {},
     "output_type": "execute_result"
    }
   ],
   "source": [
    "#Memory usage\n",
    "da.itemsize*da.size"
   ]
  },
  {
   "cell_type": "code",
   "execution_count": 28,
   "metadata": {
    "collapsed": false
   },
   "outputs": [
    {
     "data": {
      "text/plain": [
       "8.0"
      ]
     },
     "execution_count": 28,
     "metadata": {},
     "output_type": "execute_result"
    }
   ],
   "source": [
    "64/8"
   ]
  },
  {
   "cell_type": "code",
   "execution_count": 37,
   "metadata": {
    "collapsed": false
   },
   "outputs": [
    {
     "name": "stdout",
     "output_type": "stream",
     "text": [
      "[0, 1, 4, 9, 16, 25, 36, 49, 64, 81]\n",
      "[0, 1, 4, 9, 16, 25, 36, 49, 64, 81]\n"
     ]
    }
   ],
   "source": [
    "y=[x**2 for x in range(0,10)]\n",
    "t=[x**2 for x in range(0,10)]\n",
    "print(y)\n",
    "print(t)"
   ]
  },
  {
   "cell_type": "code",
   "execution_count": 36,
   "metadata": {
    "collapsed": false
   },
   "outputs": [
    {
     "data": {
      "text/plain": [
       "[0, 2, 8, 18, 32, 50, 72, 98, 128, 162]"
      ]
     },
     "execution_count": 36,
     "metadata": {},
     "output_type": "execute_result"
    }
   ],
   "source": [
    "[i+j for i,j in zip(y,t)]"
   ]
  },
  {
   "cell_type": "code",
   "execution_count": 38,
   "metadata": {
    "collapsed": false
   },
   "outputs": [
    {
     "name": "stdout",
     "output_type": "stream",
     "text": [
      "[ 0  1  4  9 16 25 36 49 64 81]\n",
      "[ 0  1  4  9 16 25 36 49 64 81]\n"
     ]
    }
   ],
   "source": [
    "x=np.arange(0,10)\n",
    "y=x**2\n",
    "t=x**2\n",
    "print(y)\n",
    "print(t)"
   ]
  },
  {
   "cell_type": "code",
   "execution_count": 39,
   "metadata": {
    "collapsed": false
   },
   "outputs": [
    {
     "data": {
      "text/plain": [
       "array([  0,   2,   8,  18,  32,  50,  72,  98, 128, 162])"
      ]
     },
     "execution_count": 39,
     "metadata": {},
     "output_type": "execute_result"
    }
   ],
   "source": [
    "y+t"
   ]
  },
  {
   "cell_type": "code",
   "execution_count": 40,
   "metadata": {
    "collapsed": false
   },
   "outputs": [
    {
     "data": {
      "text/plain": [
       "array([2, 5, 6, 8])"
      ]
     },
     "execution_count": 40,
     "metadata": {},
     "output_type": "execute_result"
    }
   ],
   "source": [
    "np.array([2,5,6,8])"
   ]
  },
  {
   "cell_type": "code",
   "execution_count": 43,
   "metadata": {
    "collapsed": false
   },
   "outputs": [
    {
     "name": "stdout",
     "output_type": "stream",
     "text": [
      "[[1 2]\n",
      " [5 2]]\n"
     ]
    }
   ],
   "source": [
    "da=np.array([[1,2],[5,2]])\n",
    "print(da)"
   ]
  },
  {
   "cell_type": "code",
   "execution_count": 47,
   "metadata": {
    "collapsed": false
   },
   "outputs": [
    {
     "data": {
      "text/plain": [
       "(2, 2)"
      ]
     },
     "execution_count": 47,
     "metadata": {},
     "output_type": "execute_result"
    }
   ],
   "source": [
    "da.shape\n"
   ]
  },
  {
   "cell_type": "code",
   "execution_count": 46,
   "metadata": {
    "collapsed": false
   },
   "outputs": [
    {
     "data": {
      "text/plain": [
       "2"
      ]
     },
     "execution_count": 46,
     "metadata": {},
     "output_type": "execute_result"
    }
   ],
   "source": [
    "da.ndim"
   ]
  },
  {
   "cell_type": "code",
   "execution_count": 49,
   "metadata": {
    "collapsed": false
   },
   "outputs": [
    {
     "data": {
      "text/plain": [
       "array([[ 0.,  0.,  0.,  0.],\n",
       "       [ 0.,  0.,  0.,  0.],\n",
       "       [ 0.,  0.,  0.,  0.]])"
      ]
     },
     "execution_count": 49,
     "metadata": {},
     "output_type": "execute_result"
    }
   ],
   "source": [
    "np.zeros((3,4))"
   ]
  },
  {
   "cell_type": "code",
   "execution_count": 51,
   "metadata": {
    "collapsed": false
   },
   "outputs": [
    {
     "data": {
      "text/plain": [
       "array([ 1.        ,  1.06122449,  1.12244898,  1.18367347,  1.24489796,\n",
       "        1.30612245,  1.36734694,  1.42857143,  1.48979592,  1.55102041,\n",
       "        1.6122449 ,  1.67346939,  1.73469388,  1.79591837,  1.85714286,\n",
       "        1.91836735,  1.97959184,  2.04081633,  2.10204082,  2.16326531,\n",
       "        2.2244898 ,  2.28571429,  2.34693878,  2.40816327,  2.46938776,\n",
       "        2.53061224,  2.59183673,  2.65306122,  2.71428571,  2.7755102 ,\n",
       "        2.83673469,  2.89795918,  2.95918367,  3.02040816,  3.08163265,\n",
       "        3.14285714,  3.20408163,  3.26530612,  3.32653061,  3.3877551 ,\n",
       "        3.44897959,  3.51020408,  3.57142857,  3.63265306,  3.69387755,\n",
       "        3.75510204,  3.81632653,  3.87755102,  3.93877551,  4.        ])"
      ]
     },
     "execution_count": 51,
     "metadata": {},
     "output_type": "execute_result"
    }
   ],
   "source": [
    "np.linspace(1,4)"
   ]
  },
  {
   "cell_type": "code",
   "execution_count": 52,
   "metadata": {
    "collapsed": false
   },
   "outputs": [
    {
     "data": {
      "text/plain": [
       "array([ 1.        ,  1.42857143,  1.85714286,  2.28571429,  2.71428571,\n",
       "        3.14285714,  3.57142857,  4.        ])"
      ]
     },
     "execution_count": 52,
     "metadata": {},
     "output_type": "execute_result"
    }
   ],
   "source": [
    "np.linspace(1,4,num=8)"
   ]
  },
  {
   "cell_type": "code",
   "execution_count": 55,
   "metadata": {
    "collapsed": false
   },
   "outputs": [
    {
     "data": {
      "text/plain": [
       "array([ 1.   ,  1.375,  1.75 ,  2.125,  2.5  ,  2.875,  3.25 ,  3.625])"
      ]
     },
     "execution_count": 55,
     "metadata": {},
     "output_type": "execute_result"
    }
   ],
   "source": [
    "np.linspace(1,4,num=8,endpoint=False)"
   ]
  },
  {
   "cell_type": "code",
   "execution_count": 59,
   "metadata": {
    "collapsed": false
   },
   "outputs": [
    {
     "data": {
      "text/plain": [
       "array([ 1.        ,  1.42857143,  1.85714286,  2.28571429,  2.71428571,\n",
       "        3.14285714,  3.57142857,  4.        ])"
      ]
     },
     "execution_count": 59,
     "metadata": {},
     "output_type": "execute_result"
    }
   ],
   "source": [
    "np.linspace(1,4,8)"
   ]
  },
  {
   "cell_type": "code",
   "execution_count": 2,
   "metadata": {
    "collapsed": false
   },
   "outputs": [
    {
     "data": {
      "text/plain": [
       "array([[ 0.00968065,  0.74124302,  0.8434784 ,  0.3555076 ],\n",
       "       [ 0.69702283,  0.43202917,  0.48272989,  0.25436209],\n",
       "       [ 0.57740848,  0.51948206,  0.46869783,  0.08624734]])"
      ]
     },
     "execution_count": 2,
     "metadata": {},
     "output_type": "execute_result"
    }
   ],
   "source": [
    "ra=np.random.random((3,4))\n",
    "ra"
   ]
  },
  {
   "cell_type": "markdown",
   "metadata": {},
   "source": [
    "# Statistics"
   ]
  },
  {
   "cell_type": "code",
   "execution_count": 63,
   "metadata": {
    "collapsed": false
   },
   "outputs": [
    {
     "data": {
      "text/plain": [
       "0.97607024205199155"
      ]
     },
     "execution_count": 63,
     "metadata": {},
     "output_type": "execute_result"
    }
   ],
   "source": [
    "np.max(ra)"
   ]
  },
  {
   "cell_type": "code",
   "execution_count": 4,
   "metadata": {
    "collapsed": false
   },
   "outputs": [
    {
     "data": {
      "text/plain": [
       "array([ 0.8434784 ,  0.69702283,  0.57740848])"
      ]
     },
     "execution_count": 4,
     "metadata": {},
     "output_type": "execute_result"
    }
   ],
   "source": [
    "np.max(ra,axis=1)#column wise check"
   ]
  },
  {
   "cell_type": "code",
   "execution_count": 67,
   "metadata": {
    "collapsed": false
   },
   "outputs": [
    {
     "data": {
      "text/plain": [
       "0.24042716594431113"
      ]
     },
     "execution_count": 67,
     "metadata": {},
     "output_type": "execute_result"
    }
   ],
   "source": [
    "np.min(ra)"
   ]
  },
  {
   "cell_type": "code",
   "execution_count": 69,
   "metadata": {
    "collapsed": false
   },
   "outputs": [
    {
     "data": {
      "text/plain": [
       "array([ 0.34861526,  0.81647867,  0.50133903,  0.66065139])"
      ]
     },
     "execution_count": 69,
     "metadata": {},
     "output_type": "execute_result"
    }
   ],
   "source": [
    "np.mean(ra,axis=0)"
   ]
  },
  {
   "cell_type": "code",
   "execution_count": 71,
   "metadata": {
    "collapsed": false
   },
   "outputs": [
    {
     "data": {
      "text/plain": [
       "0.60684146998381816"
      ]
     },
     "execution_count": 71,
     "metadata": {},
     "output_type": "execute_result"
    }
   ],
   "source": [
    "np.median(ra)"
   ]
  },
  {
   "cell_type": "code",
   "execution_count": 72,
   "metadata": {
    "collapsed": false
   },
   "outputs": [
    {
     "data": {
      "text/plain": [
       "0.2567391638567969"
      ]
     },
     "execution_count": 72,
     "metadata": {},
     "output_type": "execute_result"
    }
   ],
   "source": [
    "np.std(ra)"
   ]
  },
  {
   "cell_type": "code",
   "execution_count": 73,
   "metadata": {
    "collapsed": false
   },
   "outputs": [
    {
     "data": {
      "text/plain": [
       "6.9812530434479267"
      ]
     },
     "execution_count": 73,
     "metadata": {},
     "output_type": "execute_result"
    }
   ],
   "source": [
    "np.sum(ra)"
   ]
  },
  {
   "cell_type": "markdown",
   "metadata": {},
   "source": [
    "# Reshaping"
   ]
  },
  {
   "cell_type": "code",
   "execution_count": 76,
   "metadata": {
    "collapsed": false
   },
   "outputs": [
    {
     "data": {
      "text/plain": [
       "array([[ 0.42658073,  0.87099601,  0.76175759,  0.97607024,  0.24204729,\n",
       "         0.7882231 ],\n",
       "       [ 0.29033415,  0.24042717,  0.37721776,  0.79021688,  0.45192535,\n",
       "         0.76545677]])"
      ]
     },
     "execution_count": 76,
     "metadata": {},
     "output_type": "execute_result"
    }
   ],
   "source": [
    "np.reshape(ra,(2,6))"
   ]
  },
  {
   "cell_type": "code",
   "execution_count": 77,
   "metadata": {
    "collapsed": false
   },
   "outputs": [
    {
     "data": {
      "text/plain": [
       "array([ 0.42658073,  0.87099601,  0.76175759,  0.97607024,  0.24204729,\n",
       "        0.7882231 ,  0.29033415,  0.24042717,  0.37721776,  0.79021688,\n",
       "        0.45192535,  0.76545677])"
      ]
     },
     "execution_count": 77,
     "metadata": {},
     "output_type": "execute_result"
    }
   ],
   "source": [
    "np.reshape(ra,12)"
   ]
  },
  {
   "cell_type": "markdown",
   "metadata": {},
   "source": [
    "# Slicing"
   ]
  },
  {
   "cell_type": "code",
   "execution_count": 135,
   "metadata": {
    "collapsed": false
   },
   "outputs": [
    {
     "data": {
      "text/plain": [
       "array([[ 0.04746568,  0.06733902,  0.97119316,  0.99119688,  0.91043934,\n",
       "         0.68305362,  0.17737563,  0.68142747,  0.14943182,  0.5094931 ],\n",
       "       [ 0.91657413,  0.35232233,  0.91808098,  0.77994366,  0.34174446,\n",
       "         0.18382047,  0.65830381,  0.7626624 ,  0.41100012,  0.65698538],\n",
       "       [ 0.23274667,  0.70739142,  0.99775381,  0.31427646,  0.92536891,\n",
       "         0.60333605,  0.0208988 ,  0.53869027,  0.52650098,  0.03673676],\n",
       "       [ 0.06997765,  0.34300714,  0.46951992,  0.7982667 ,  0.23611749,\n",
       "         0.87951156,  0.41052801,  0.66237146,  0.81251602,  0.51168038],\n",
       "       [ 0.96651516,  0.64291609,  0.9409601 ,  0.02356564,  0.26757675,\n",
       "         0.34035632,  0.41514169,  0.93610239,  0.12898301,  0.33284056]])"
      ]
     },
     "execution_count": 135,
     "metadata": {},
     "output_type": "execute_result"
    }
   ],
   "source": [
    "ra=np.random.random((5,10))\n",
    "ra"
   ]
  },
  {
   "cell_type": "code",
   "execution_count": 84,
   "metadata": {
    "collapsed": false
   },
   "outputs": [
    {
     "data": {
      "text/plain": [
       "array([ 0.83308424,  0.67910283,  0.70083277,  0.52515228,  0.31495645,\n",
       "        0.87277773,  0.83733347,  0.74034569,  0.02172958,  0.41263705])"
      ]
     },
     "execution_count": 84,
     "metadata": {},
     "output_type": "execute_result"
    }
   ],
   "source": [
    "ra[0]"
   ]
  },
  {
   "cell_type": "code",
   "execution_count": 85,
   "metadata": {
    "collapsed": false
   },
   "outputs": [
    {
     "data": {
      "text/plain": [
       "0.97782113050865549"
      ]
     },
     "execution_count": 85,
     "metadata": {},
     "output_type": "execute_result"
    }
   ],
   "source": [
    "ra[1][0]"
   ]
  },
  {
   "cell_type": "code",
   "execution_count": 89,
   "metadata": {
    "collapsed": false
   },
   "outputs": [
    {
     "data": {
      "text/plain": [
       "array([[ 0.97782113,  0.28841088,  0.28503803,  0.75557928,  0.38930723,\n",
       "         0.80264305,  0.22984645,  0.01278938,  0.34594931,  0.20049132],\n",
       "       [ 0.20283557,  0.8414059 ,  0.54625152,  0.23118621,  0.91868644,\n",
       "         0.10178476,  0.36176262,  0.90223721,  0.12601859,  0.54117487],\n",
       "       [ 0.60995427,  0.07933466,  0.67904476,  0.20193007,  0.99858099,\n",
       "         0.53174357,  0.5044074 ,  0.46022901,  0.87841506,  0.94294978]])"
      ]
     },
     "execution_count": 89,
     "metadata": {},
     "output_type": "execute_result"
    }
   ],
   "source": [
    "ra[1:4]"
   ]
  },
  {
   "cell_type": "code",
   "execution_count": 91,
   "metadata": {
    "collapsed": false
   },
   "outputs": [
    {
     "data": {
      "text/plain": [
       "array([ 0.28841088,  0.8414059 ,  0.07933466])"
      ]
     },
     "execution_count": 91,
     "metadata": {},
     "output_type": "execute_result"
    }
   ],
   "source": [
    "ra[1:4,1]"
   ]
  },
  {
   "cell_type": "code",
   "execution_count": 92,
   "metadata": {
    "collapsed": false
   },
   "outputs": [
    {
     "data": {
      "text/plain": [
       "array([[ 0.97782113,  0.28841088],\n",
       "       [ 0.20283557,  0.8414059 ],\n",
       "       [ 0.60995427,  0.07933466]])"
      ]
     },
     "execution_count": 92,
     "metadata": {},
     "output_type": "execute_result"
    }
   ],
   "source": [
    "ra[1:4,0:2]"
   ]
  },
  {
   "cell_type": "code",
   "execution_count": 93,
   "metadata": {
    "collapsed": false
   },
   "outputs": [
    {
     "data": {
      "text/plain": [
       "array([ 0.67910283,  0.28841088,  0.8414059 ,  0.07933466,  0.99033   ])"
      ]
     },
     "execution_count": 93,
     "metadata": {},
     "output_type": "execute_result"
    }
   ],
   "source": [
    "ra[:,1]"
   ]
  },
  {
   "cell_type": "code",
   "execution_count": 119,
   "metadata": {
    "collapsed": false
   },
   "outputs": [
    {
     "data": {
      "text/plain": [
       "array([[ 0.20283557,  0.8414059 ,  0.54625152,  0.23118621,  0.91868644,\n",
       "         0.10178476,  0.36176262,  0.90223721,  0.12601859,  0.54117487]])"
      ]
     },
     "execution_count": 119,
     "metadata": {},
     "output_type": "execute_result"
    }
   ],
   "source": [
    "ra[2:4:2]"
   ]
  },
  {
   "cell_type": "code",
   "execution_count": 106,
   "metadata": {
    "collapsed": false
   },
   "outputs": [
    {
     "data": {
      "text/plain": [
       "array([[ 0.83308424,  0.67910283,  0.70083277,  0.52515228,  0.31495645,\n",
       "         0.87277773,  0.83733347,  0.74034569,  0.02172958,  0.41263705],\n",
       "       [ 0.97782113,  0.28841088,  0.28503803,  0.75557928,  0.38930723,\n",
       "         0.80264305,  0.22984645,  0.01278938,  0.34594931,  0.20049132],\n",
       "       [ 0.20283557,  0.8414059 ,  0.54625152,  0.23118621,  0.91868644,\n",
       "         0.10178476,  0.36176262,  0.90223721,  0.12601859,  0.54117487],\n",
       "       [ 0.60995427,  0.07933466,  0.67904476,  0.20193007,  0.99858099,\n",
       "         0.53174357,  0.5044074 ,  0.46022901,  0.87841506,  0.94294978],\n",
       "       [ 0.05620605,  0.99033   ,  0.3453156 ,  0.87222144,  0.4691714 ,\n",
       "         0.27033067,  0.38131142,  0.68447436,  0.71536746,  0.02855849]])"
      ]
     },
     "execution_count": 106,
     "metadata": {},
     "output_type": "execute_result"
    }
   ],
   "source": [
    "ra[::]"
   ]
  },
  {
   "cell_type": "code",
   "execution_count": 116,
   "metadata": {
    "collapsed": false
   },
   "outputs": [
    {
     "data": {
      "text/plain": [
       "array([[ 0.83308424,  0.70083277,  0.31495645,  0.83733347,  0.02172958],\n",
       "       [ 0.97782113,  0.28503803,  0.38930723,  0.22984645,  0.34594931],\n",
       "       [ 0.20283557,  0.54625152,  0.91868644,  0.36176262,  0.12601859],\n",
       "       [ 0.60995427,  0.67904476,  0.99858099,  0.5044074 ,  0.87841506],\n",
       "       [ 0.05620605,  0.3453156 ,  0.4691714 ,  0.38131142,  0.71536746]])"
      ]
     },
     "execution_count": 116,
     "metadata": {},
     "output_type": "execute_result"
    }
   ],
   "source": [
    "ra[:,::2]"
   ]
  },
  {
   "cell_type": "code",
   "execution_count": 111,
   "metadata": {
    "collapsed": false
   },
   "outputs": [
    {
     "data": {
      "text/plain": [
       "array([[ 0.20283557,  0.8414059 ,  0.54625152,  0.23118621,  0.91868644,\n",
       "         0.10178476,  0.36176262,  0.90223721,  0.12601859,  0.54117487],\n",
       "       [ 0.60995427,  0.07933466,  0.67904476,  0.20193007,  0.99858099,\n",
       "         0.53174357,  0.5044074 ,  0.46022901,  0.87841506,  0.94294978]])"
      ]
     },
     "execution_count": 111,
     "metadata": {},
     "output_type": "execute_result"
    }
   ],
   "source": [
    "ra[2:4]"
   ]
  },
  {
   "cell_type": "code",
   "execution_count": 113,
   "metadata": {
    "collapsed": false
   },
   "outputs": [
    {
     "data": {
      "text/plain": [
       "array([[ 0.20283557,  0.54625152,  0.91868644,  0.36176262,  0.12601859],\n",
       "       [ 0.60995427,  0.67904476,  0.99858099,  0.5044074 ,  0.87841506]])"
      ]
     },
     "execution_count": 113,
     "metadata": {},
     "output_type": "execute_result"
    }
   ],
   "source": [
    "ra[2:4,::2]"
   ]
  },
  {
   "cell_type": "code",
   "execution_count": 120,
   "metadata": {
    "collapsed": true
   },
   "outputs": [],
   "source": [
    "ra[1,1]=1"
   ]
  },
  {
   "cell_type": "code",
   "execution_count": 121,
   "metadata": {
    "collapsed": false
   },
   "outputs": [
    {
     "data": {
      "text/plain": [
       "array([[ 0.83308424,  0.67910283,  0.70083277,  0.52515228,  0.31495645,\n",
       "         0.87277773,  0.83733347,  0.74034569,  0.02172958,  0.41263705],\n",
       "       [ 0.97782113,  1.        ,  0.28503803,  0.75557928,  0.38930723,\n",
       "         0.80264305,  0.22984645,  0.01278938,  0.34594931,  0.20049132],\n",
       "       [ 0.20283557,  0.8414059 ,  0.54625152,  0.23118621,  0.91868644,\n",
       "         0.10178476,  0.36176262,  0.90223721,  0.12601859,  0.54117487],\n",
       "       [ 0.60995427,  0.07933466,  0.67904476,  0.20193007,  0.99858099,\n",
       "         0.53174357,  0.5044074 ,  0.46022901,  0.87841506,  0.94294978],\n",
       "       [ 0.05620605,  0.99033   ,  0.3453156 ,  0.87222144,  0.4691714 ,\n",
       "         0.27033067,  0.38131142,  0.68447436,  0.71536746,  0.02855849]])"
      ]
     },
     "execution_count": 121,
     "metadata": {},
     "output_type": "execute_result"
    }
   ],
   "source": [
    "ra"
   ]
  },
  {
   "cell_type": "code",
   "execution_count": 122,
   "metadata": {
    "collapsed": true
   },
   "outputs": [],
   "source": [
    "ra[1,:]=1"
   ]
  },
  {
   "cell_type": "code",
   "execution_count": 123,
   "metadata": {
    "collapsed": false
   },
   "outputs": [
    {
     "data": {
      "text/plain": [
       "array([[ 0.83308424,  0.67910283,  0.70083277,  0.52515228,  0.31495645,\n",
       "         0.87277773,  0.83733347,  0.74034569,  0.02172958,  0.41263705],\n",
       "       [ 1.        ,  1.        ,  1.        ,  1.        ,  1.        ,\n",
       "         1.        ,  1.        ,  1.        ,  1.        ,  1.        ],\n",
       "       [ 0.20283557,  0.8414059 ,  0.54625152,  0.23118621,  0.91868644,\n",
       "         0.10178476,  0.36176262,  0.90223721,  0.12601859,  0.54117487],\n",
       "       [ 0.60995427,  0.07933466,  0.67904476,  0.20193007,  0.99858099,\n",
       "         0.53174357,  0.5044074 ,  0.46022901,  0.87841506,  0.94294978],\n",
       "       [ 0.05620605,  0.99033   ,  0.3453156 ,  0.87222144,  0.4691714 ,\n",
       "         0.27033067,  0.38131142,  0.68447436,  0.71536746,  0.02855849]])"
      ]
     },
     "execution_count": 123,
     "metadata": {},
     "output_type": "execute_result"
    }
   ],
   "source": [
    "ra"
   ]
  },
  {
   "cell_type": "code",
   "execution_count": 124,
   "metadata": {
    "collapsed": false
   },
   "outputs": [
    {
     "data": {
      "text/plain": [
       "array([ 1.,  1.,  1.,  1.])"
      ]
     },
     "execution_count": 124,
     "metadata": {},
     "output_type": "execute_result"
    }
   ],
   "source": [
    "ra[1,2:6]"
   ]
  },
  {
   "cell_type": "code",
   "execution_count": 125,
   "metadata": {
    "collapsed": false
   },
   "outputs": [
    {
     "data": {
      "text/plain": [
       "array([[ 0.83308424,  0.67910283,  0.70083277,  0.52515228,  0.31495645,\n",
       "         0.87277773,  0.83733347,  0.74034569,  0.02172958,  0.41263705],\n",
       "       [ 1.        ,  1.        ,  4.        ,  7.        ,  2.        ,\n",
       "         1.        ,  1.        ,  1.        ,  1.        ,  1.        ],\n",
       "       [ 0.20283557,  0.8414059 ,  0.54625152,  0.23118621,  0.91868644,\n",
       "         0.10178476,  0.36176262,  0.90223721,  0.12601859,  0.54117487],\n",
       "       [ 0.60995427,  0.07933466,  0.67904476,  0.20193007,  0.99858099,\n",
       "         0.53174357,  0.5044074 ,  0.46022901,  0.87841506,  0.94294978],\n",
       "       [ 0.05620605,  0.99033   ,  0.3453156 ,  0.87222144,  0.4691714 ,\n",
       "         0.27033067,  0.38131142,  0.68447436,  0.71536746,  0.02855849]])"
      ]
     },
     "execution_count": 125,
     "metadata": {},
     "output_type": "execute_result"
    }
   ],
   "source": [
    "ra[1,2:6]=[4,7,2,1]\n",
    "ra"
   ]
  },
  {
   "cell_type": "code",
   "execution_count": 129,
   "metadata": {
    "collapsed": false
   },
   "outputs": [
    {
     "data": {
      "text/plain": [
       "array([[ 0.83308424,  0.67910283,  0.70083277,  0.52515228,  0.31495645,\n",
       "         0.87277773,  0.83733347,  0.74034569,  0.02172958,  0.41263705],\n",
       "       [ 1.        ,  1.        ,  2.2       ,  7.        ,  2.        ,\n",
       "         9.        ,  1.        ,  1.        ,  1.        ,  1.        ],\n",
       "       [ 0.20283557,  0.8414059 ,  0.54625152,  0.23118621,  0.91868644,\n",
       "         0.10178476,  0.36176262,  0.90223721,  0.12601859,  0.54117487],\n",
       "       [ 0.60995427,  0.07933466,  0.67904476,  0.20193007,  0.99858099,\n",
       "         0.53174357,  0.5044074 ,  0.46022901,  0.87841506,  0.94294978],\n",
       "       [ 0.05620605,  0.99033   ,  0.3453156 ,  0.87222144,  0.4691714 ,\n",
       "         0.27033067,  0.38131142,  0.68447436,  0.71536746,  0.02855849]])"
      ]
     },
     "execution_count": 129,
     "metadata": {},
     "output_type": "execute_result"
    }
   ],
   "source": [
    "t=[2.2,7,2,9]\n",
    "ra[1,2:6]=t\n",
    "ra"
   ]
  },
  {
   "cell_type": "code",
   "execution_count": 136,
   "metadata": {
    "collapsed": false
   },
   "outputs": [
    {
     "data": {
      "text/plain": [
       "array([[ 0.04746568,  0.06733902,  0.97119316,  0.99119688,  0.91043934,\n",
       "         0.68305362,  0.17737563,  0.68142747,  0.14943182,  0.5094931 ],\n",
       "       [ 0.91657413,  0.35232233, -1.        , -1.        , -1.        ,\n",
       "         0.18382047,  0.65830381,  0.7626624 ,  0.41100012,  0.65698538],\n",
       "       [ 0.23274667,  0.70739142,  0.99775381,  0.31427646,  0.92536891,\n",
       "         0.60333605,  0.0208988 ,  0.53869027,  0.52650098,  0.03673676],\n",
       "       [ 0.06997765,  0.34300714,  0.46951992,  0.7982667 ,  0.23611749,\n",
       "         0.87951156,  0.41052801,  0.66237146,  0.81251602,  0.51168038],\n",
       "       [ 0.96651516,  0.64291609,  0.9409601 ,  0.02356564,  0.26757675,\n",
       "         0.34035632,  0.41514169,  0.93610239,  0.12898301,  0.33284056]])"
      ]
     },
     "execution_count": 136,
     "metadata": {},
     "output_type": "execute_result"
    }
   ],
   "source": [
    "inx=[2,3,4]\n",
    "ra[1,inx]=-1\n",
    "ra"
   ]
  },
  {
   "cell_type": "code",
   "execution_count": 145,
   "metadata": {
    "collapsed": false
   },
   "outputs": [
    {
     "name": "stdout",
     "output_type": "stream",
     "text": [
      "[[ 0.04746568  0.06733902  0.97119316  0.99119688  0.91043934  0.68305362\n",
      "   0.17737563  0.68142747  0.14943182  0.5094931 ]\n",
      " [ 0.91657413 -1.         -1.         -1.         -1.          0.18382047\n",
      "   0.65830381  0.7626624   0.41100012  0.65698538]\n",
      " [ 0.23274667  0.70739142  0.99775381  0.31427646  0.92536891  0.60333605\n",
      "   0.0208988   0.53869027  0.52650098  0.03673676]\n",
      " [ 0.06997765  0.34300714  0.46951992  0.7982667   0.23611749  0.87951156\n",
      "   0.41052801  0.66237146  0.81251602  0.51168038]\n",
      " [ 0.96651516  0.64291609  0.9409601   0.02356564  0.26757675  0.34035632\n",
      "   0.41514169  0.93610239  0.12898301  0.33284056]]\n"
     ]
    }
   ],
   "source": [
    "inx=np.where(ra<=0 )\n",
    "inx\n",
    "ra[1,inx]=-1\n",
    "print(ra)"
   ]
  },
  {
   "cell_type": "code",
   "execution_count": 5,
   "metadata": {
    "collapsed": false
   },
   "outputs": [
    {
     "data": {
      "text/plain": [
       "array([1, 2, 3, 4, 5, 6, 7, 8])"
      ]
     },
     "execution_count": 5,
     "metadata": {},
     "output_type": "execute_result"
    }
   ],
   "source": [
    "x=np.array([1,2,3,4,5,6,7,8])\n",
    "x"
   ]
  },
  {
   "cell_type": "code",
   "execution_count": 6,
   "metadata": {
    "collapsed": true
   },
   "outputs": [],
   "source": [
    "t=[1,1,1,1]\n",
    "x[1:5]=t"
   ]
  },
  {
   "cell_type": "code",
   "execution_count": 7,
   "metadata": {
    "collapsed": false
   },
   "outputs": [
    {
     "data": {
      "text/plain": [
       "array([1, 1, 1, 1, 1, 6, 7, 8])"
      ]
     },
     "execution_count": 7,
     "metadata": {},
     "output_type": "execute_result"
    }
   ],
   "source": [
    "x"
   ]
  },
  {
   "cell_type": "code",
   "execution_count": 8,
   "metadata": {
    "collapsed": false
   },
   "outputs": [
    {
     "data": {
      "text/plain": [
       "array([1, 1, 1, 1, 1, 6])"
      ]
     },
     "execution_count": 8,
     "metadata": {},
     "output_type": "execute_result"
    }
   ],
   "source": [
    "x[0:6]"
   ]
  },
  {
   "cell_type": "code",
   "execution_count": 7,
   "metadata": {
    "collapsed": true
   },
   "outputs": [],
   "source": [
    "x=[[3,6,7,1],[2,4,6,7,8,2,3]]"
   ]
  },
  {
   "cell_type": "code",
   "execution_count": 2,
   "metadata": {
    "collapsed": false
   },
   "outputs": [
    {
     "data": {
      "text/plain": [
       "[[3, 6, 7, 1], [2, 4, 6, 7, 8, 2, 3]]"
      ]
     },
     "execution_count": 2,
     "metadata": {},
     "output_type": "execute_result"
    }
   ],
   "source": [
    "x"
   ]
  },
  {
   "cell_type": "code",
   "execution_count": 8,
   "metadata": {
    "collapsed": false
   },
   "outputs": [
    {
     "data": {
      "text/plain": [
       "[3, 6, 7, 1]"
      ]
     },
     "execution_count": 8,
     "metadata": {},
     "output_type": "execute_result"
    }
   ],
   "source": [
    "x[0][:]"
   ]
  },
  {
   "cell_type": "code",
   "execution_count": 9,
   "metadata": {
    "collapsed": false
   },
   "outputs": [
    {
     "name": "stdout",
     "output_type": "stream",
     "text": [
      "[3, 6, 7, 1]\n",
      "[2, 4, 6, 7, 8, 2, 3]\n"
     ]
    }
   ],
   "source": [
    "for i in range(0,len(x)):\n",
    "    print(x[i][:])\n",
    "    "
   ]
  },
  {
   "cell_type": "code",
   "execution_count": 3,
   "metadata": {
    "collapsed": false
   },
   "outputs": [
    {
     "data": {
      "text/plain": [
       "array([1, 2, 3, 0, 0, 4, 5, 6])"
      ]
     },
     "execution_count": 3,
     "metadata": {},
     "output_type": "execute_result"
    }
   ],
   "source": [
    "np.r_[np.array([1,2,3]), 0, 0, np.array([4,5,6])]"
   ]
  },
  {
   "cell_type": "code",
   "execution_count": 6,
   "metadata": {
    "collapsed": false
   },
   "outputs": [
    {
     "data": {
      "text/plain": [
       "array([-1. , -0.6, -0.2,  0.2,  0.6,  1. ])"
      ]
     },
     "execution_count": 6,
     "metadata": {},
     "output_type": "execute_result"
    }
   ],
   "source": [
    "np.r_[-1:1:6j]"
   ]
  },
  {
   "cell_type": "code",
   "execution_count": 2,
   "metadata": {
    "collapsed": false
   },
   "outputs": [
    {
     "data": {
      "text/plain": [
       "array([-1. , -0.6, -0.2,  0.2,  0.6,  1. ,  0. ,  0. ,  0. ,  5. ,  6. ])"
      ]
     },
     "execution_count": 2,
     "metadata": {},
     "output_type": "execute_result"
    }
   ],
   "source": [
    "np.r_[-1:1:6j, [0]*3, 5, 6]"
   ]
  },
  {
   "cell_type": "code",
   "execution_count": null,
   "metadata": {
    "collapsed": true
   },
   "outputs": [],
   "source": []
  }
 ],
 "metadata": {
  "kernelspec": {
   "display_name": "Python 3",
   "language": "python",
   "name": "python3"
  },
  "language_info": {
   "codemirror_mode": {
    "name": "ipython",
    "version": 3
   },
   "file_extension": ".py",
   "mimetype": "text/x-python",
   "name": "python",
   "nbconvert_exporter": "python",
   "pygments_lexer": "ipython3",
   "version": "3.5.1"
  }
 },
 "nbformat": 4,
 "nbformat_minor": 0
}
